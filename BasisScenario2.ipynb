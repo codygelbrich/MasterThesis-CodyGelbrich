{
 "cells": [
  {
   "cell_type": "code",
   "execution_count": 295,
   "metadata": {},
   "outputs": [],
   "source": [
    "import pandas as pd\n",
    "import geopandas as gpd\n",
    "import numpy as np\n",
    "from geopy.distance import geodesic\n",
    "from quetzal.model import stepmodel\n",
    "from quetzal.io.display import all_pt_paths, path, pt_path"
   ]
  },
  {
   "cell_type": "code",
   "execution_count": 296,
   "metadata": {},
   "outputs": [
    {
     "data": {
      "text/plain": [
       "'/Users/codygelbrich/Desktop/nic/Term_Paper/codycode'"
      ]
     },
     "execution_count": 296,
     "metadata": {},
     "output_type": "execute_result"
    }
   ],
   "source": [
    "pwd"
   ]
  },
  {
   "cell_type": "code",
   "execution_count": 297,
   "metadata": {},
   "outputs": [],
   "source": [
    "# Load the network model from the last exercise\n",
    "model_path = '../../model/'\n",
    "sm = stepmodel.read_json(model_path + 'network')"
   ]
  },
  {
   "cell_type": "code",
   "execution_count": 298,
   "metadata": {},
   "outputs": [
    {
     "data": {
      "text/plain": [
       "11"
      ]
     },
     "execution_count": 298,
     "metadata": {},
     "output_type": "execute_result"
    }
   ],
   "source": [
    "# How many zones do we have?\n",
    "len(sm.zones)"
   ]
  },
  {
   "cell_type": "markdown",
   "metadata": {},
   "source": [
    "## Preparation of OD-times\n",
    "\n",
    "The pathfinders need a column \"time\" in the links or road_links tables to find the shortest paths. The PT pathfinder also applies a generalized boarding time (can be interpreted as a penalty for interchanging between transport carriers) and a waiting time, which is computed from the headway of PT carriers (waiting time equals half the headway (in seconds) assuming a randomly and evenly distributed arrival pattern of passengers on every PT stop)."
   ]
  },
  {
   "cell_type": "code",
   "execution_count": 299,
   "metadata": {},
   "outputs": [
    {
     "data": {
      "text/html": [
       "<div>\n",
       "<style scoped>\n",
       "    .dataframe tbody tr th:only-of-type {\n",
       "        vertical-align: middle;\n",
       "    }\n",
       "\n",
       "    .dataframe tbody tr th {\n",
       "        vertical-align: top;\n",
       "    }\n",
       "\n",
       "    .dataframe thead th {\n",
       "        text-align: right;\n",
       "    }\n",
       "</style>\n",
       "<table border=\"1\" class=\"dataframe\">\n",
       "  <thead>\n",
       "    <tr style=\"text-align: right;\">\n",
       "      <th></th>\n",
       "      <th>a</th>\n",
       "      <th>b</th>\n",
       "      <th>length</th>\n",
       "      <th>geometry</th>\n",
       "      <th>highway</th>\n",
       "    </tr>\n",
       "    <tr>\n",
       "      <th>index</th>\n",
       "      <th></th>\n",
       "      <th></th>\n",
       "      <th></th>\n",
       "      <th></th>\n",
       "      <th></th>\n",
       "    </tr>\n",
       "  </thead>\n",
       "  <tbody>\n",
       "    <tr>\n",
       "      <th>3387</th>\n",
       "      <td>662761999</td>\n",
       "      <td>270915091</td>\n",
       "      <td>44.804</td>\n",
       "      <td>LINESTRING (9.48195 54.79743, 9.48195 54.79703)</td>\n",
       "      <td>residential</td>\n",
       "    </tr>\n",
       "  </tbody>\n",
       "</table>\n",
       "</div>"
      ],
      "text/plain": [
       "               a          b  length  \\\n",
       "index                                 \n",
       "3387   662761999  270915091  44.804   \n",
       "\n",
       "                                              geometry      highway  \n",
       "index                                                                \n",
       "3387   LINESTRING (9.48195 54.79743, 9.48195 54.79703)  residential  "
      ]
     },
     "execution_count": 299,
     "metadata": {},
     "output_type": "execute_result"
    }
   ],
   "source": [
    "sm.road_links.sample(1)"
   ]
  },
  {
   "cell_type": "code",
   "execution_count": 300,
   "metadata": {},
   "outputs": [
    {
     "data": {
      "text/html": [
       "<div>\n",
       "<style scoped>\n",
       "    .dataframe tbody tr th:only-of-type {\n",
       "        vertical-align: middle;\n",
       "    }\n",
       "\n",
       "    .dataframe tbody tr th {\n",
       "        vertical-align: top;\n",
       "    }\n",
       "\n",
       "    .dataframe thead th {\n",
       "        text-align: right;\n",
       "    }\n",
       "</style>\n",
       "<table border=\"1\" class=\"dataframe\">\n",
       "  <thead>\n",
       "    <tr style=\"text-align: right;\">\n",
       "      <th></th>\n",
       "      <th>trip_id</th>\n",
       "      <th>a</th>\n",
       "      <th>b</th>\n",
       "      <th>link_sequence</th>\n",
       "      <th>time</th>\n",
       "      <th>headway</th>\n",
       "      <th>pattern_id</th>\n",
       "      <th>route_id</th>\n",
       "      <th>service_id</th>\n",
       "      <th>direction_id</th>\n",
       "      <th>agency_id</th>\n",
       "      <th>route_type</th>\n",
       "      <th>disaggregated_a</th>\n",
       "      <th>disaggregated_b</th>\n",
       "      <th>geometry</th>\n",
       "    </tr>\n",
       "    <tr>\n",
       "      <th>index</th>\n",
       "      <th></th>\n",
       "      <th></th>\n",
       "      <th></th>\n",
       "      <th></th>\n",
       "      <th></th>\n",
       "      <th></th>\n",
       "      <th></th>\n",
       "      <th></th>\n",
       "      <th></th>\n",
       "      <th></th>\n",
       "      <th></th>\n",
       "      <th></th>\n",
       "      <th></th>\n",
       "      <th></th>\n",
       "      <th></th>\n",
       "    </tr>\n",
       "  </thead>\n",
       "  <tbody>\n",
       "    <tr>\n",
       "      <th>link_1320</th>\n",
       "      <td>710_3</td>\n",
       "      <td>n_66</td>\n",
       "      <td>n_141</td>\n",
       "      <td>10</td>\n",
       "      <td>60.0</td>\n",
       "      <td>14400</td>\n",
       "      <td>710_3</td>\n",
       "      <td>710</td>\n",
       "      <td>59</td>\n",
       "      <td>0</td>\n",
       "      <td>136</td>\n",
       "      <td>bus</td>\n",
       "      <td>node_277642</td>\n",
       "      <td>node_197683</td>\n",
       "      <td>LINESTRING (9.43392 54.78970, 9.43373 54.79226)</td>\n",
       "    </tr>\n",
       "  </tbody>\n",
       "</table>\n",
       "</div>"
      ],
      "text/plain": [
       "          trip_id     a      b  link_sequence  time  headway pattern_id  \\\n",
       "index                                                                     \n",
       "link_1320   710_3  n_66  n_141             10  60.0    14400      710_3   \n",
       "\n",
       "          route_id service_id  direction_id agency_id route_type  \\\n",
       "index                                                              \n",
       "link_1320      710         59             0       136        bus   \n",
       "\n",
       "          disaggregated_a disaggregated_b  \\\n",
       "index                                       \n",
       "link_1320     node_277642     node_197683   \n",
       "\n",
       "                                                  geometry  \n",
       "index                                                       \n",
       "link_1320  LINESTRING (9.43392 54.78970, 9.43373 54.79226)  "
      ]
     },
     "execution_count": 300,
     "metadata": {},
     "output_type": "execute_result"
    }
   ],
   "source": [
    "sm.links.sample(1)"
   ]
  },
  {
   "cell_type": "code",
   "execution_count": 301,
   "metadata": {},
   "outputs": [
    {
     "name": "stderr",
     "output_type": "stream",
     "text": [
      "nearest_link: 100%|█████████████████████| 1480/1480 [00:00<00:00, 166422.79it/s]\n",
      "5054_3: 100%|███████████████████████████████████| 99/99 [00:04<00:00, 23.91it/s]\n"
     ]
    }
   ],
   "source": [
    "# We don't see any length column in our links,\n",
    "# but it is nice for calculating speeds and for later steps.\n",
    "# We can cast the PT network onto the road network (as in A40)\n",
    "# Start with the bus links\n",
    "bus = sm.copy() # copy the whole model\n",
    "bus.links = bus.links.loc[bus.links['route_type'].isin(['bus'])] # Filter\n",
    "# Apply quetzal's casting function\n",
    "bus.preparation_cast_network(\n",
    "    nearest_method='nodes',\n",
    "    n_neighbors_centroid=5, \n",
    "    n_neighbors=5, \n",
    "    penalty_factor=2,\n",
    "    replace_nodes=False\n",
    ")"
   ]
  },
  {
   "cell_type": "code",
   "execution_count": 302,
   "metadata": {},
   "outputs": [
    {
     "data": {
      "text/html": [
       "<div>\n",
       "<style scoped>\n",
       "    .dataframe tbody tr th:only-of-type {\n",
       "        vertical-align: middle;\n",
       "    }\n",
       "\n",
       "    .dataframe tbody tr th {\n",
       "        vertical-align: top;\n",
       "    }\n",
       "\n",
       "    .dataframe thead th {\n",
       "        text-align: right;\n",
       "    }\n",
       "</style>\n",
       "<table border=\"1\" class=\"dataframe\">\n",
       "  <thead>\n",
       "    <tr style=\"text-align: right;\">\n",
       "      <th></th>\n",
       "      <th>trip_id</th>\n",
       "      <th>a</th>\n",
       "      <th>b</th>\n",
       "      <th>link_sequence</th>\n",
       "      <th>time</th>\n",
       "      <th>headway</th>\n",
       "      <th>pattern_id</th>\n",
       "      <th>route_id</th>\n",
       "      <th>service_id</th>\n",
       "      <th>direction_id</th>\n",
       "      <th>agency_id</th>\n",
       "      <th>route_type</th>\n",
       "      <th>disaggregated_a</th>\n",
       "      <th>disaggregated_b</th>\n",
       "      <th>road_a</th>\n",
       "      <th>road_b</th>\n",
       "      <th>road_node_list</th>\n",
       "      <th>road_link_list</th>\n",
       "      <th>road_length</th>\n",
       "      <th>geometry</th>\n",
       "    </tr>\n",
       "    <tr>\n",
       "      <th>index</th>\n",
       "      <th></th>\n",
       "      <th></th>\n",
       "      <th></th>\n",
       "      <th></th>\n",
       "      <th></th>\n",
       "      <th></th>\n",
       "      <th></th>\n",
       "      <th></th>\n",
       "      <th></th>\n",
       "      <th></th>\n",
       "      <th></th>\n",
       "      <th></th>\n",
       "      <th></th>\n",
       "      <th></th>\n",
       "      <th></th>\n",
       "      <th></th>\n",
       "      <th></th>\n",
       "      <th></th>\n",
       "      <th></th>\n",
       "      <th></th>\n",
       "    </tr>\n",
       "  </thead>\n",
       "  <tbody>\n",
       "    <tr>\n",
       "      <th>link_1397</th>\n",
       "      <td>7592_0</td>\n",
       "      <td>n_68</td>\n",
       "      <td>n_155</td>\n",
       "      <td>19</td>\n",
       "      <td>120.0</td>\n",
       "      <td>1920</td>\n",
       "      <td>7592_0</td>\n",
       "      <td>7592</td>\n",
       "      <td>59</td>\n",
       "      <td>0</td>\n",
       "      <td>136</td>\n",
       "      <td>bus</td>\n",
       "      <td>node_423625</td>\n",
       "      <td>node_68396</td>\n",
       "      <td>287620608</td>\n",
       "      <td>264797657</td>\n",
       "      <td>[287620608, 264797640, 264797641, 264797650, 2...</td>\n",
       "      <td>[4665, 4666, 4668, 577]</td>\n",
       "      <td>626.062</td>\n",
       "      <td>LINESTRING (9.463801699999999 54.7750157, 9.46...</td>\n",
       "    </tr>\n",
       "  </tbody>\n",
       "</table>\n",
       "</div>"
      ],
      "text/plain": [
       "          trip_id     a      b  link_sequence   time  headway pattern_id  \\\n",
       "index                                                                      \n",
       "link_1397  7592_0  n_68  n_155             19  120.0     1920     7592_0   \n",
       "\n",
       "          route_id service_id  direction_id agency_id route_type  \\\n",
       "index                                                              \n",
       "link_1397     7592         59             0       136        bus   \n",
       "\n",
       "          disaggregated_a disaggregated_b     road_a     road_b  \\\n",
       "index                                                             \n",
       "link_1397     node_423625      node_68396  287620608  264797657   \n",
       "\n",
       "                                              road_node_list  \\\n",
       "index                                                          \n",
       "link_1397  [287620608, 264797640, 264797641, 264797650, 2...   \n",
       "\n",
       "                    road_link_list  road_length  \\\n",
       "index                                             \n",
       "link_1397  [4665, 4666, 4668, 577]      626.062   \n",
       "\n",
       "                                                    geometry  \n",
       "index                                                         \n",
       "link_1397  LINESTRING (9.463801699999999 54.7750157, 9.46...  "
      ]
     },
     "execution_count": 302,
     "metadata": {},
     "output_type": "execute_result"
    }
   ],
   "source": [
    "bus.links.sample()"
   ]
  },
  {
   "cell_type": "code",
   "execution_count": 303,
   "metadata": {},
   "outputs": [],
   "source": [
    "# Now take the road_length of casted model (erstellte Modell) as the length of our genuine model (originale Model)\n",
    "sm.links['length'] = np.nan # create a new column with default values\n",
    "sm.links.loc[sm.links['route_type'].isin(['bus']),\n",
    "             'length'] = bus.links['road_length']\n",
    "\n",
    "#erstellt neue Spalte in links mit dem Namen length. Dort werden die Längen(road_length) der bus.links gespeichert"
   ]
  },
  {
   "cell_type": "code",
   "execution_count": 304,
   "metadata": {},
   "outputs": [],
   "source": [
    "# For rail links, we can assign the geometric distance\n",
    "sm.links.loc[sm.links['length'].isna(), 'length'] = \\\n",
    "    sm.links.loc[sm.links['length'].isna(), 'geometry'].apply(\n",
    "        lambda l: int(geodesic(l.coords[0], l.coords[-1]).m))\n",
    "# Take the geometric line and from it the start and end points, then calculate the meter distance in between\n",
    "#Für die Bahn wird die geometrische Entfernung genutzt"
   ]
  },
  {
   "cell_type": "code",
   "execution_count": 305,
   "metadata": {},
   "outputs": [
    {
     "name": "stdout",
     "output_type": "stream",
     "text": [
      "bus_speed = 5.969885032067939 m / s\n"
     ]
    }
   ],
   "source": [
    "# You can calculate the average bus operation speed\n",
    "bus = sm.links.loc[sm.links['route_type'] == 'bus'] # filter\n",
    "bus_lines = bus.groupby('route_id')[['time', 'length']].sum() # sum up time and length for each route\n",
    "bus_speed = bus['length'].sum() / bus['time'].sum() # operation speed\n",
    "print('bus_speed =', bus_speed, 'm / s')\n",
    "#berechnet die Busgeschwindigkeit über die länge der links  und die zeit"
   ]
  },
  {
   "cell_type": "code",
   "execution_count": 306,
   "metadata": {},
   "outputs": [],
   "source": [
    "# Create the time LoS column for cars (it's already there for PT from the GTFS feeds)\n",
    "car_speed = 5.8333333333333 #Binnenverkehr (21km/h) aus Mobilitätsbericht Flensburg \n",
    "sm.road_links['time'] = sm.road_links['length'] / car_speed # m/s"
   ]
  },
  {
   "cell_type": "code",
   "execution_count": 307,
   "metadata": {},
   "outputs": [
    {
     "data": {
      "text/html": [
       "<div>\n",
       "<style scoped>\n",
       "    .dataframe tbody tr th:only-of-type {\n",
       "        vertical-align: middle;\n",
       "    }\n",
       "\n",
       "    .dataframe tbody tr th {\n",
       "        vertical-align: top;\n",
       "    }\n",
       "\n",
       "    .dataframe thead th {\n",
       "        text-align: right;\n",
       "    }\n",
       "</style>\n",
       "<table border=\"1\" class=\"dataframe\">\n",
       "  <thead>\n",
       "    <tr style=\"text-align: right;\">\n",
       "      <th></th>\n",
       "      <th>a</th>\n",
       "      <th>b</th>\n",
       "      <th>length</th>\n",
       "      <th>geometry</th>\n",
       "      <th>highway</th>\n",
       "      <th>time</th>\n",
       "    </tr>\n",
       "    <tr>\n",
       "      <th>index</th>\n",
       "      <th></th>\n",
       "      <th></th>\n",
       "      <th></th>\n",
       "      <th></th>\n",
       "      <th></th>\n",
       "      <th></th>\n",
       "    </tr>\n",
       "  </thead>\n",
       "  <tbody>\n",
       "    <tr>\n",
       "      <th>1</th>\n",
       "      <td>26012989</td>\n",
       "      <td>654163464</td>\n",
       "      <td>183.731</td>\n",
       "      <td>LINESTRING (9.39666 54.76167, 9.39776 54.76015)</td>\n",
       "      <td>secondary</td>\n",
       "      <td>31.496743</td>\n",
       "    </tr>\n",
       "    <tr>\n",
       "      <th>2</th>\n",
       "      <td>26012989</td>\n",
       "      <td>654163515</td>\n",
       "      <td>275.879</td>\n",
       "      <td>LINESTRING (9.39666 54.76167, 9.39766 54.76322)</td>\n",
       "      <td>residential</td>\n",
       "      <td>47.293543</td>\n",
       "    </tr>\n",
       "    <tr>\n",
       "      <th>3</th>\n",
       "      <td>26012989</td>\n",
       "      <td>232927838</td>\n",
       "      <td>78.570</td>\n",
       "      <td>LINESTRING (9.39666 54.76167, 9.39617 54.76232)</td>\n",
       "      <td>secondary</td>\n",
       "      <td>13.469143</td>\n",
       "    </tr>\n",
       "    <tr>\n",
       "      <th>4</th>\n",
       "      <td>26012995</td>\n",
       "      <td>1300501795</td>\n",
       "      <td>383.719</td>\n",
       "      <td>LINESTRING (9.40250 54.75548, 9.40641 54.75809)</td>\n",
       "      <td>tertiary</td>\n",
       "      <td>65.780400</td>\n",
       "    </tr>\n",
       "    <tr>\n",
       "      <th>5</th>\n",
       "      <td>26012995</td>\n",
       "      <td>79484077</td>\n",
       "      <td>183.331</td>\n",
       "      <td>LINESTRING (9.40250 54.75548, 9.40065 54.75422)</td>\n",
       "      <td>tertiary</td>\n",
       "      <td>31.428171</td>\n",
       "    </tr>\n",
       "    <tr>\n",
       "      <th>...</th>\n",
       "      <td>...</td>\n",
       "      <td>...</td>\n",
       "      <td>...</td>\n",
       "      <td>...</td>\n",
       "      <td>...</td>\n",
       "      <td>...</td>\n",
       "    </tr>\n",
       "    <tr>\n",
       "      <th>8043</th>\n",
       "      <td>269216504</td>\n",
       "      <td>9608933099</td>\n",
       "      <td>5.536</td>\n",
       "      <td>LINESTRING (9.45950 54.80736, 9.45952 54.80741)</td>\n",
       "      <td>secondary</td>\n",
       "      <td>0.949029</td>\n",
       "    </tr>\n",
       "    <tr>\n",
       "      <th>8044</th>\n",
       "      <td>269216505</td>\n",
       "      <td>9608933099</td>\n",
       "      <td>99.247</td>\n",
       "      <td>LINESTRING (9.46106 54.80734, 9.45952 54.80741)</td>\n",
       "      <td>residential</td>\n",
       "      <td>17.013771</td>\n",
       "    </tr>\n",
       "    <tr>\n",
       "      <th>8045</th>\n",
       "      <td>1667040721</td>\n",
       "      <td>9608933099</td>\n",
       "      <td>317.486</td>\n",
       "      <td>LINESTRING (9.46110 54.81011, 9.45952 54.80741)</td>\n",
       "      <td>secondary</td>\n",
       "      <td>54.426171</td>\n",
       "    </tr>\n",
       "    <tr>\n",
       "      <th>8046</th>\n",
       "      <td>197609971</td>\n",
       "      <td>9876471202</td>\n",
       "      <td>13.803</td>\n",
       "      <td>LINESTRING (9.41052 54.79872, 9.41072 54.79876)</td>\n",
       "      <td>secondary</td>\n",
       "      <td>2.366229</td>\n",
       "    </tr>\n",
       "    <tr>\n",
       "      <th>8047</th>\n",
       "      <td>289103792</td>\n",
       "      <td>9876471202</td>\n",
       "      <td>118.079</td>\n",
       "      <td>LINESTRING (9.41254 54.79888, 9.41072 54.79876)</td>\n",
       "      <td>tertiary</td>\n",
       "      <td>20.242114</td>\n",
       "    </tr>\n",
       "  </tbody>\n",
       "</table>\n",
       "<p>8033 rows × 6 columns</p>\n",
       "</div>"
      ],
      "text/plain": [
       "                a           b   length  \\\n",
       "index                                    \n",
       "1        26012989   654163464  183.731   \n",
       "2        26012989   654163515  275.879   \n",
       "3        26012989   232927838   78.570   \n",
       "4        26012995  1300501795  383.719   \n",
       "5        26012995    79484077  183.331   \n",
       "...           ...         ...      ...   \n",
       "8043    269216504  9608933099    5.536   \n",
       "8044    269216505  9608933099   99.247   \n",
       "8045   1667040721  9608933099  317.486   \n",
       "8046    197609971  9876471202   13.803   \n",
       "8047    289103792  9876471202  118.079   \n",
       "\n",
       "                                              geometry      highway       time  \n",
       "index                                                                           \n",
       "1      LINESTRING (9.39666 54.76167, 9.39776 54.76015)    secondary  31.496743  \n",
       "2      LINESTRING (9.39666 54.76167, 9.39766 54.76322)  residential  47.293543  \n",
       "3      LINESTRING (9.39666 54.76167, 9.39617 54.76232)    secondary  13.469143  \n",
       "4      LINESTRING (9.40250 54.75548, 9.40641 54.75809)     tertiary  65.780400  \n",
       "5      LINESTRING (9.40250 54.75548, 9.40065 54.75422)     tertiary  31.428171  \n",
       "...                                                ...          ...        ...  \n",
       "8043   LINESTRING (9.45950 54.80736, 9.45952 54.80741)    secondary   0.949029  \n",
       "8044   LINESTRING (9.46106 54.80734, 9.45952 54.80741)  residential  17.013771  \n",
       "8045   LINESTRING (9.46110 54.81011, 9.45952 54.80741)    secondary  54.426171  \n",
       "8046   LINESTRING (9.41052 54.79872, 9.41072 54.79876)    secondary   2.366229  \n",
       "8047   LINESTRING (9.41254 54.79888, 9.41072 54.79876)     tertiary  20.242114  \n",
       "\n",
       "[8033 rows x 6 columns]"
      ]
     },
     "execution_count": 307,
     "metadata": {},
     "output_type": "execute_result"
    }
   ],
   "source": [
    "sm.road_links"
   ]
  },
  {
   "cell_type": "code",
   "execution_count": 308,
   "metadata": {},
   "outputs": [
    {
     "data": {
      "text/plain": [
       "8033"
      ]
     },
     "execution_count": 308,
     "metadata": {},
     "output_type": "execute_result"
    }
   ],
   "source": [
    "len(sm.road_links)"
   ]
  },
  {
   "cell_type": "code",
   "execution_count": 309,
   "metadata": {},
   "outputs": [],
   "source": [
    "# If we want to compute walking paths on road links, we need a time for that to\n",
    "sm.road_links['walk_time'] = sm.road_links['time'] * 3 # walk three times slower than car"
   ]
  },
  {
   "cell_type": "markdown",
   "metadata": {},
   "source": [
    "### Walk"
   ]
  },
  {
   "cell_type": "code",
   "execution_count": 310,
   "metadata": {},
   "outputs": [
    {
     "data": {
      "text/plain": [
       "dict_keys(['parameters', 'debug', 'walk_on_road', 'coordinates_unit', 'epsg', 'segments', 'checkpoint_links', 'loaded_links', 'links', 'road_links', 'footpaths', 'lines', 'networkcaster_neighbors', 'networkcaster_road_access', 'node_parenthood', 'road_to_transit', 'zone_to_transit', 'zone_to_road', 'checkpoint_nodes', 'loaded_nodes', 'nodes', 'road_nodes', 'centroids', 'disaggregated_nodes', 'micro_zones', 'zones', 'node_clusters', 'fare_rules', 'fare_attributes', 'mode_nests', 'logit_scales', 'utility_values', 'car_los', 'cycling_los', 'cycle_los', 'walk_los', 'jsons', 'bike_los', 'volumes', 'pt_los', 'footpath_links', 'dead_ends', 'circular_lines', 'broken_sequences', 'bikelane_links', 'footpath_nodes', 'bikelane_nodes'])"
      ]
     },
     "execution_count": 310,
     "metadata": {},
     "output_type": "execute_result"
    }
   ],
   "source": [
    "sm.__dict__.keys()"
   ]
  },
  {
   "cell_type": "code",
   "execution_count": 311,
   "metadata": {},
   "outputs": [],
   "source": [
    "#sm.links"
   ]
  },
  {
   "cell_type": "code",
   "execution_count": 312,
   "metadata": {},
   "outputs": [
    {
     "data": {
      "text/html": [
       "<div>\n",
       "<style scoped>\n",
       "    .dataframe tbody tr th:only-of-type {\n",
       "        vertical-align: middle;\n",
       "    }\n",
       "\n",
       "    .dataframe tbody tr th {\n",
       "        vertical-align: top;\n",
       "    }\n",
       "\n",
       "    .dataframe thead th {\n",
       "        text-align: right;\n",
       "    }\n",
       "</style>\n",
       "<table border=\"1\" class=\"dataframe\">\n",
       "  <thead>\n",
       "    <tr style=\"text-align: right;\">\n",
       "      <th></th>\n",
       "      <th>a</th>\n",
       "      <th>b</th>\n",
       "      <th>length</th>\n",
       "      <th>geometry</th>\n",
       "      <th>highway</th>\n",
       "    </tr>\n",
       "    <tr>\n",
       "      <th>index</th>\n",
       "      <th></th>\n",
       "      <th></th>\n",
       "      <th></th>\n",
       "      <th></th>\n",
       "      <th></th>\n",
       "    </tr>\n",
       "  </thead>\n",
       "  <tbody>\n",
       "    <tr>\n",
       "      <th>57120</th>\n",
       "      <td>1889786916</td>\n",
       "      <td>1889786957</td>\n",
       "      <td>67.918</td>\n",
       "      <td>LINESTRING (9.47876 54.80814, 9.47882 54.80875)</td>\n",
       "      <td>path</td>\n",
       "    </tr>\n",
       "  </tbody>\n",
       "</table>\n",
       "</div>"
      ],
      "text/plain": [
       "                a           b  length  \\\n",
       "index                                   \n",
       "57120  1889786916  1889786957  67.918   \n",
       "\n",
       "                                              geometry highway  \n",
       "index                                                           \n",
       "57120  LINESTRING (9.47876 54.80814, 9.47882 54.80875)    path  "
      ]
     },
     "execution_count": 312,
     "metadata": {},
     "output_type": "execute_result"
    }
   ],
   "source": [
    "#Same for walking:\n",
    "sm.footpath_links.sample(1)"
   ]
  },
  {
   "cell_type": "code",
   "execution_count": 313,
   "metadata": {},
   "outputs": [
    {
     "data": {
      "text/html": [
       "<div>\n",
       "<style scoped>\n",
       "    .dataframe tbody tr th:only-of-type {\n",
       "        vertical-align: middle;\n",
       "    }\n",
       "\n",
       "    .dataframe tbody tr th {\n",
       "        vertical-align: top;\n",
       "    }\n",
       "\n",
       "    .dataframe thead th {\n",
       "        text-align: right;\n",
       "    }\n",
       "</style>\n",
       "<table border=\"1\" class=\"dataframe\">\n",
       "  <thead>\n",
       "    <tr style=\"text-align: right;\">\n",
       "      <th></th>\n",
       "      <th>trip_id</th>\n",
       "      <th>a</th>\n",
       "      <th>b</th>\n",
       "      <th>link_sequence</th>\n",
       "      <th>time</th>\n",
       "      <th>headway</th>\n",
       "      <th>pattern_id</th>\n",
       "      <th>route_id</th>\n",
       "      <th>service_id</th>\n",
       "      <th>direction_id</th>\n",
       "      <th>agency_id</th>\n",
       "      <th>route_type</th>\n",
       "      <th>disaggregated_a</th>\n",
       "      <th>disaggregated_b</th>\n",
       "      <th>geometry</th>\n",
       "      <th>length</th>\n",
       "    </tr>\n",
       "    <tr>\n",
       "      <th>index</th>\n",
       "      <th></th>\n",
       "      <th></th>\n",
       "      <th></th>\n",
       "      <th></th>\n",
       "      <th></th>\n",
       "      <th></th>\n",
       "      <th></th>\n",
       "      <th></th>\n",
       "      <th></th>\n",
       "      <th></th>\n",
       "      <th></th>\n",
       "      <th></th>\n",
       "      <th></th>\n",
       "      <th></th>\n",
       "      <th></th>\n",
       "      <th></th>\n",
       "    </tr>\n",
       "  </thead>\n",
       "  <tbody>\n",
       "    <tr>\n",
       "      <th>link_797</th>\n",
       "      <td>4311_2</td>\n",
       "      <td>n_197</td>\n",
       "      <td>n_61</td>\n",
       "      <td>9</td>\n",
       "      <td>60.0</td>\n",
       "      <td>1838</td>\n",
       "      <td>4311_2</td>\n",
       "      <td>4311</td>\n",
       "      <td>59</td>\n",
       "      <td>0</td>\n",
       "      <td>136</td>\n",
       "      <td>bus</td>\n",
       "      <td>node_383479</td>\n",
       "      <td>node_412757</td>\n",
       "      <td>LINESTRING (9.42970 54.77132, 9.42556 54.77161)</td>\n",
       "      <td>203.074</td>\n",
       "    </tr>\n",
       "  </tbody>\n",
       "</table>\n",
       "</div>"
      ],
      "text/plain": [
       "         trip_id      a     b  link_sequence  time  headway pattern_id  \\\n",
       "index                                                                    \n",
       "link_797  4311_2  n_197  n_61              9  60.0     1838     4311_2   \n",
       "\n",
       "         route_id service_id  direction_id agency_id route_type  \\\n",
       "index                                                             \n",
       "link_797     4311         59             0       136        bus   \n",
       "\n",
       "         disaggregated_a disaggregated_b  \\\n",
       "index                                      \n",
       "link_797     node_383479     node_412757   \n",
       "\n",
       "                                                 geometry   length  \n",
       "index                                                               \n",
       "link_797  LINESTRING (9.42970 54.77132, 9.42556 54.77161)  203.074  "
      ]
     },
     "execution_count": 313,
     "metadata": {},
     "output_type": "execute_result"
    }
   ],
   "source": [
    "sm.links.sample(1)"
   ]
  },
  {
   "cell_type": "code",
   "execution_count": 314,
   "metadata": {},
   "outputs": [],
   "source": [
    "walk = sm.copy() # Copy the whole model and save it as 'walk'"
   ]
  },
  {
   "cell_type": "code",
   "execution_count": 315,
   "metadata": {},
   "outputs": [
    {
     "data": {
      "text/plain": [
       "dict_keys(['parameters', 'debug', 'walk_on_road', 'coordinates_unit', 'epsg', 'segments', 'checkpoint_links', 'loaded_links', 'links', 'road_links', 'footpaths', 'lines', 'networkcaster_neighbors', 'networkcaster_road_access', 'node_parenthood', 'road_to_transit', 'zone_to_transit', 'zone_to_road', 'checkpoint_nodes', 'loaded_nodes', 'nodes', 'road_nodes', 'centroids', 'disaggregated_nodes', 'micro_zones', 'zones', 'node_clusters', 'fare_rules', 'fare_attributes', 'mode_nests', 'logit_scales', 'utility_values', 'car_los', 'cycling_los', 'cycle_los', 'walk_los', 'jsons', 'bike_los', 'volumes', 'pt_los', 'footpath_links', 'dead_ends', 'circular_lines', 'broken_sequences', 'bikelane_links', 'footpath_nodes', 'bikelane_nodes'])"
      ]
     },
     "execution_count": 315,
     "metadata": {},
     "output_type": "execute_result"
    }
   ],
   "source": [
    "walk.__dict__.keys()"
   ]
  },
  {
   "cell_type": "code",
   "execution_count": 316,
   "metadata": {},
   "outputs": [],
   "source": [
    "walk.road_links = walk.footpath_links # Act as if the walking links were road links\n",
    "walk.road_nodes = walk.footpath_nodes # Same for nodes"
   ]
  },
  {
   "cell_type": "code",
   "execution_count": 317,
   "metadata": {},
   "outputs": [
    {
     "data": {
      "text/html": [
       "<div>\n",
       "<style scoped>\n",
       "    .dataframe tbody tr th:only-of-type {\n",
       "        vertical-align: middle;\n",
       "    }\n",
       "\n",
       "    .dataframe tbody tr th {\n",
       "        vertical-align: top;\n",
       "    }\n",
       "\n",
       "    .dataframe thead th {\n",
       "        text-align: right;\n",
       "    }\n",
       "</style>\n",
       "<table border=\"1\" class=\"dataframe\">\n",
       "  <thead>\n",
       "    <tr style=\"text-align: right;\">\n",
       "      <th></th>\n",
       "      <th>a</th>\n",
       "      <th>b</th>\n",
       "      <th>length</th>\n",
       "      <th>geometry</th>\n",
       "      <th>highway</th>\n",
       "    </tr>\n",
       "    <tr>\n",
       "      <th>index</th>\n",
       "      <th></th>\n",
       "      <th></th>\n",
       "      <th></th>\n",
       "      <th></th>\n",
       "      <th></th>\n",
       "    </tr>\n",
       "  </thead>\n",
       "  <tbody>\n",
       "    <tr>\n",
       "      <th>6396</th>\n",
       "      <td>312251612</td>\n",
       "      <td>320859950</td>\n",
       "      <td>50.452</td>\n",
       "      <td>LINESTRING (9.47545 54.80226, 9.47551 54.80181)</td>\n",
       "      <td>tertiary</td>\n",
       "    </tr>\n",
       "  </tbody>\n",
       "</table>\n",
       "</div>"
      ],
      "text/plain": [
       "               a          b  length  \\\n",
       "index                                 \n",
       "6396   312251612  320859950  50.452   \n",
       "\n",
       "                                              geometry   highway  \n",
       "index                                                             \n",
       "6396   LINESTRING (9.47545 54.80226, 9.47551 54.80181)  tertiary  "
      ]
     },
     "execution_count": 317,
     "metadata": {},
     "output_type": "execute_result"
    }
   ],
   "source": [
    "walk.road_links.sample()"
   ]
  },
  {
   "cell_type": "code",
   "execution_count": 318,
   "metadata": {},
   "outputs": [
    {
     "data": {
      "text/html": [
       "<div>\n",
       "<style scoped>\n",
       "    .dataframe tbody tr th:only-of-type {\n",
       "        vertical-align: middle;\n",
       "    }\n",
       "\n",
       "    .dataframe tbody tr th {\n",
       "        vertical-align: top;\n",
       "    }\n",
       "\n",
       "    .dataframe thead th {\n",
       "        text-align: right;\n",
       "    }\n",
       "</style>\n",
       "<table border=\"1\" class=\"dataframe\">\n",
       "  <thead>\n",
       "    <tr style=\"text-align: right;\">\n",
       "      <th></th>\n",
       "      <th>trip_id</th>\n",
       "      <th>a</th>\n",
       "      <th>b</th>\n",
       "      <th>link_sequence</th>\n",
       "      <th>time</th>\n",
       "      <th>headway</th>\n",
       "      <th>pattern_id</th>\n",
       "      <th>route_id</th>\n",
       "      <th>service_id</th>\n",
       "      <th>direction_id</th>\n",
       "      <th>agency_id</th>\n",
       "      <th>route_type</th>\n",
       "      <th>disaggregated_a</th>\n",
       "      <th>disaggregated_b</th>\n",
       "      <th>geometry</th>\n",
       "      <th>length</th>\n",
       "    </tr>\n",
       "    <tr>\n",
       "      <th>index</th>\n",
       "      <th></th>\n",
       "      <th></th>\n",
       "      <th></th>\n",
       "      <th></th>\n",
       "      <th></th>\n",
       "      <th></th>\n",
       "      <th></th>\n",
       "      <th></th>\n",
       "      <th></th>\n",
       "      <th></th>\n",
       "      <th></th>\n",
       "      <th></th>\n",
       "      <th></th>\n",
       "      <th></th>\n",
       "      <th></th>\n",
       "      <th></th>\n",
       "    </tr>\n",
       "  </thead>\n",
       "  <tbody>\n",
       "    <tr>\n",
       "      <th>link_1127</th>\n",
       "      <td>5054_5</td>\n",
       "      <td>n_153</td>\n",
       "      <td>n_259</td>\n",
       "      <td>5</td>\n",
       "      <td>60.0</td>\n",
       "      <td>86400</td>\n",
       "      <td>5054_5</td>\n",
       "      <td>5054</td>\n",
       "      <td>59</td>\n",
       "      <td>0</td>\n",
       "      <td>136</td>\n",
       "      <td>bus</td>\n",
       "      <td>node_7543</td>\n",
       "      <td>node_383316</td>\n",
       "      <td>LINESTRING (9.44449 54.78767, 9.44769 54.79065)</td>\n",
       "      <td>412.417</td>\n",
       "    </tr>\n",
       "  </tbody>\n",
       "</table>\n",
       "</div>"
      ],
      "text/plain": [
       "          trip_id      a      b  link_sequence  time  headway pattern_id  \\\n",
       "index                                                                      \n",
       "link_1127  5054_5  n_153  n_259              5  60.0    86400     5054_5   \n",
       "\n",
       "          route_id service_id  direction_id agency_id route_type  \\\n",
       "index                                                              \n",
       "link_1127     5054         59             0       136        bus   \n",
       "\n",
       "          disaggregated_a disaggregated_b  \\\n",
       "index                                       \n",
       "link_1127       node_7543     node_383316   \n",
       "\n",
       "                                                  geometry   length  \n",
       "index                                                                \n",
       "link_1127  LINESTRING (9.44449 54.78767, 9.44769 54.79065)  412.417  "
      ]
     },
     "execution_count": 318,
     "metadata": {},
     "output_type": "execute_result"
    }
   ],
   "source": [
    "walk.links.sample()"
   ]
  },
  {
   "cell_type": "code",
   "execution_count": 319,
   "metadata": {},
   "outputs": [],
   "source": [
    "#walk.links['route_type'] = 'walk'"
   ]
  },
  {
   "cell_type": "code",
   "execution_count": 320,
   "metadata": {},
   "outputs": [],
   "source": [
    "#walk.links.sample()"
   ]
  },
  {
   "cell_type": "code",
   "execution_count": 321,
   "metadata": {},
   "outputs": [],
   "source": [
    "#walk.links = walk.links.loc[walk.links['route_type'].isin(['walk'])] # Filter"
   ]
  },
  {
   "cell_type": "code",
   "execution_count": 322,
   "metadata": {},
   "outputs": [],
   "source": [
    "#walk.links.sample()"
   ]
  },
  {
   "cell_type": "code",
   "execution_count": 323,
   "metadata": {},
   "outputs": [
    {
     "data": {
      "text/plain": [
       "dict_keys(['parameters', 'debug', 'walk_on_road', 'coordinates_unit', 'epsg', 'segments', 'checkpoint_links', 'loaded_links', 'links', 'road_links', 'footpaths', 'lines', 'networkcaster_neighbors', 'networkcaster_road_access', 'node_parenthood', 'road_to_transit', 'zone_to_transit', 'zone_to_road', 'checkpoint_nodes', 'loaded_nodes', 'nodes', 'road_nodes', 'centroids', 'disaggregated_nodes', 'micro_zones', 'zones', 'node_clusters', 'fare_rules', 'fare_attributes', 'mode_nests', 'logit_scales', 'utility_values', 'car_los', 'cycling_los', 'cycle_los', 'walk_los', 'jsons', 'bike_los', 'volumes', 'pt_los', 'footpath_links', 'dead_ends', 'circular_lines', 'broken_sequences', 'bikelane_links', 'footpath_nodes', 'bikelane_nodes'])"
      ]
     },
     "execution_count": 323,
     "metadata": {},
     "output_type": "execute_result"
    }
   ],
   "source": [
    "walk.__dict__.keys()"
   ]
  },
  {
   "cell_type": "code",
   "execution_count": 324,
   "metadata": {},
   "outputs": [],
   "source": [
    "# Now take the road_length of casted model (erstellte Modell) as the length of our genuine model (originale Model)\n",
    "#walk.links['length'] = np.nan # create a new column with default values\n",
    "# --> es gibt bereits eine spalte mit length"
   ]
  },
  {
   "cell_type": "code",
   "execution_count": 325,
   "metadata": {},
   "outputs": [],
   "source": [
    "#walk.links.sample()"
   ]
  },
  {
   "cell_type": "code",
   "execution_count": 326,
   "metadata": {},
   "outputs": [],
   "source": [
    "#sm.links.loc[sm.links['route_type'].isin(['walk'])] # Filter"
   ]
  },
  {
   "cell_type": "code",
   "execution_count": 327,
   "metadata": {},
   "outputs": [],
   "source": [
    "# Create the time LoS column for walking\n",
    "walk_speed = 1.3888888888889 #Binnenverkehr & Wege unter 5km --> 5km/h aus Mobilitätsbericht Flensburg \n",
    "sm.footpath_links['time'] = sm.footpath_links['length'] / walk_speed # m/s\n",
    "walk.road_links['time'] = walk.road_links['length'] / walk_speed"
   ]
  },
  {
   "cell_type": "code",
   "execution_count": 328,
   "metadata": {},
   "outputs": [],
   "source": [
    "# If we want to compute walking paths on road links, we need a time for that to\n",
    "sm.footpath_links['walk_time'] = sm.footpath_links['time'] * 1 # walk same time"
   ]
  },
  {
   "cell_type": "code",
   "execution_count": 329,
   "metadata": {},
   "outputs": [
    {
     "data": {
      "text/html": [
       "<div>\n",
       "<style scoped>\n",
       "    .dataframe tbody tr th:only-of-type {\n",
       "        vertical-align: middle;\n",
       "    }\n",
       "\n",
       "    .dataframe tbody tr th {\n",
       "        vertical-align: top;\n",
       "    }\n",
       "\n",
       "    .dataframe thead th {\n",
       "        text-align: right;\n",
       "    }\n",
       "</style>\n",
       "<table border=\"1\" class=\"dataframe\">\n",
       "  <thead>\n",
       "    <tr style=\"text-align: right;\">\n",
       "      <th></th>\n",
       "      <th>a</th>\n",
       "      <th>b</th>\n",
       "      <th>length</th>\n",
       "      <th>geometry</th>\n",
       "      <th>highway</th>\n",
       "      <th>time</th>\n",
       "    </tr>\n",
       "    <tr>\n",
       "      <th>index</th>\n",
       "      <th></th>\n",
       "      <th></th>\n",
       "      <th></th>\n",
       "      <th></th>\n",
       "      <th></th>\n",
       "      <th></th>\n",
       "    </tr>\n",
       "  </thead>\n",
       "  <tbody>\n",
       "    <tr>\n",
       "      <th>1</th>\n",
       "      <td>21929576</td>\n",
       "      <td>9077610843</td>\n",
       "      <td>6.139</td>\n",
       "      <td>LINESTRING (9.46856 54.82250, 9.46864 54.82253)</td>\n",
       "      <td>path</td>\n",
       "      <td>4.42008</td>\n",
       "    </tr>\n",
       "    <tr>\n",
       "      <th>2</th>\n",
       "      <td>21929576</td>\n",
       "      <td>1851263511</td>\n",
       "      <td>31.839</td>\n",
       "      <td>LINESTRING (9.46856 54.82250, 9.46815 54.82266)</td>\n",
       "      <td>path</td>\n",
       "      <td>22.92408</td>\n",
       "    </tr>\n",
       "    <tr>\n",
       "      <th>3</th>\n",
       "      <td>21929576</td>\n",
       "      <td>3417612920</td>\n",
       "      <td>47.207</td>\n",
       "      <td>LINESTRING (9.46856 54.82250, 9.46917 54.82227)</td>\n",
       "      <td>path</td>\n",
       "      <td>33.98904</td>\n",
       "    </tr>\n",
       "    <tr>\n",
       "      <th>4</th>\n",
       "      <td>26012979</td>\n",
       "      <td>1288301276</td>\n",
       "      <td>25.413</td>\n",
       "      <td>LINESTRING (9.38537 54.77486, 9.38504 54.77473)</td>\n",
       "      <td>service</td>\n",
       "      <td>18.29736</td>\n",
       "    </tr>\n",
       "    <tr>\n",
       "      <th>5</th>\n",
       "      <td>26012979</td>\n",
       "      <td>2021498995</td>\n",
       "      <td>9.452</td>\n",
       "      <td>LINESTRING (9.38537 54.77486, 9.38549 54.77491)</td>\n",
       "      <td>path</td>\n",
       "      <td>6.80544</td>\n",
       "    </tr>\n",
       "    <tr>\n",
       "      <th>...</th>\n",
       "      <td>...</td>\n",
       "      <td>...</td>\n",
       "      <td>...</td>\n",
       "      <td>...</td>\n",
       "      <td>...</td>\n",
       "      <td>...</td>\n",
       "    </tr>\n",
       "    <tr>\n",
       "      <th>64236</th>\n",
       "      <td>9918461081</td>\n",
       "      <td>9918461067</td>\n",
       "      <td>3.670</td>\n",
       "      <td>LINESTRING (9.43406 54.79266, 9.43401 54.79265)</td>\n",
       "      <td>path</td>\n",
       "      <td>2.64240</td>\n",
       "    </tr>\n",
       "    <tr>\n",
       "      <th>64237</th>\n",
       "      <td>9918461067</td>\n",
       "      <td>9918461081</td>\n",
       "      <td>3.670</td>\n",
       "      <td>LINESTRING (9.43401 54.79265, 9.43406 54.79266)</td>\n",
       "      <td>path</td>\n",
       "      <td>2.64240</td>\n",
       "    </tr>\n",
       "    <tr>\n",
       "      <th>64238</th>\n",
       "      <td>1819999174</td>\n",
       "      <td>9929181776</td>\n",
       "      <td>8.573</td>\n",
       "      <td>LINESTRING (9.45075 54.77648, 9.45062 54.77646)</td>\n",
       "      <td>service</td>\n",
       "      <td>6.17256</td>\n",
       "    </tr>\n",
       "    <tr>\n",
       "      <th>64239</th>\n",
       "      <td>408986092</td>\n",
       "      <td>9929181776</td>\n",
       "      <td>45.601</td>\n",
       "      <td>LINESTRING (9.45047 54.77617, 9.45062 54.77646)</td>\n",
       "      <td>service</td>\n",
       "      <td>32.83272</td>\n",
       "    </tr>\n",
       "    <tr>\n",
       "      <th>64240</th>\n",
       "      <td>1819999285</td>\n",
       "      <td>9929181776</td>\n",
       "      <td>85.860</td>\n",
       "      <td>LINESTRING (9.45045 54.77717, 9.45062 54.77646)</td>\n",
       "      <td>service</td>\n",
       "      <td>61.81920</td>\n",
       "    </tr>\n",
       "  </tbody>\n",
       "</table>\n",
       "<p>64240 rows × 6 columns</p>\n",
       "</div>"
      ],
      "text/plain": [
       "                a           b  length  \\\n",
       "index                                   \n",
       "1        21929576  9077610843   6.139   \n",
       "2        21929576  1851263511  31.839   \n",
       "3        21929576  3417612920  47.207   \n",
       "4        26012979  1288301276  25.413   \n",
       "5        26012979  2021498995   9.452   \n",
       "...           ...         ...     ...   \n",
       "64236  9918461081  9918461067   3.670   \n",
       "64237  9918461067  9918461081   3.670   \n",
       "64238  1819999174  9929181776   8.573   \n",
       "64239   408986092  9929181776  45.601   \n",
       "64240  1819999285  9929181776  85.860   \n",
       "\n",
       "                                              geometry  highway      time  \n",
       "index                                                                      \n",
       "1      LINESTRING (9.46856 54.82250, 9.46864 54.82253)     path   4.42008  \n",
       "2      LINESTRING (9.46856 54.82250, 9.46815 54.82266)     path  22.92408  \n",
       "3      LINESTRING (9.46856 54.82250, 9.46917 54.82227)     path  33.98904  \n",
       "4      LINESTRING (9.38537 54.77486, 9.38504 54.77473)  service  18.29736  \n",
       "5      LINESTRING (9.38537 54.77486, 9.38549 54.77491)     path   6.80544  \n",
       "...                                                ...      ...       ...  \n",
       "64236  LINESTRING (9.43406 54.79266, 9.43401 54.79265)     path   2.64240  \n",
       "64237  LINESTRING (9.43401 54.79265, 9.43406 54.79266)     path   2.64240  \n",
       "64238  LINESTRING (9.45075 54.77648, 9.45062 54.77646)  service   6.17256  \n",
       "64239  LINESTRING (9.45047 54.77617, 9.45062 54.77646)  service  32.83272  \n",
       "64240  LINESTRING (9.45045 54.77717, 9.45062 54.77646)  service  61.81920  \n",
       "\n",
       "[64240 rows x 6 columns]"
      ]
     },
     "execution_count": 329,
     "metadata": {},
     "output_type": "execute_result"
    }
   ],
   "source": [
    "walk.road_links\n"
   ]
  },
  {
   "cell_type": "code",
   "execution_count": 330,
   "metadata": {},
   "outputs": [
    {
     "data": {
      "text/html": [
       "<div>\n",
       "<style scoped>\n",
       "    .dataframe tbody tr th:only-of-type {\n",
       "        vertical-align: middle;\n",
       "    }\n",
       "\n",
       "    .dataframe tbody tr th {\n",
       "        vertical-align: top;\n",
       "    }\n",
       "\n",
       "    .dataframe thead th {\n",
       "        text-align: right;\n",
       "    }\n",
       "</style>\n",
       "<table border=\"1\" class=\"dataframe\">\n",
       "  <thead>\n",
       "    <tr style=\"text-align: right;\">\n",
       "      <th></th>\n",
       "      <th>a</th>\n",
       "      <th>b</th>\n",
       "      <th>length</th>\n",
       "      <th>geometry</th>\n",
       "      <th>highway</th>\n",
       "      <th>time</th>\n",
       "      <th>walk_time</th>\n",
       "    </tr>\n",
       "    <tr>\n",
       "      <th>index</th>\n",
       "      <th></th>\n",
       "      <th></th>\n",
       "      <th></th>\n",
       "      <th></th>\n",
       "      <th></th>\n",
       "      <th></th>\n",
       "      <th></th>\n",
       "    </tr>\n",
       "  </thead>\n",
       "  <tbody>\n",
       "    <tr>\n",
       "      <th>7817</th>\n",
       "      <td>1779120370</td>\n",
       "      <td>1779120363</td>\n",
       "      <td>99.017</td>\n",
       "      <td>LINESTRING (9.42646 54.80730, 9.42560 54.80683)</td>\n",
       "      <td>residential</td>\n",
       "      <td>16.974343</td>\n",
       "      <td>50.923029</td>\n",
       "    </tr>\n",
       "  </tbody>\n",
       "</table>\n",
       "</div>"
      ],
      "text/plain": [
       "                a           b  length  \\\n",
       "index                                   \n",
       "7817   1779120370  1779120363  99.017   \n",
       "\n",
       "                                              geometry      highway  \\\n",
       "index                                                                 \n",
       "7817   LINESTRING (9.42646 54.80730, 9.42560 54.80683)  residential   \n",
       "\n",
       "            time  walk_time  \n",
       "index                        \n",
       "7817   16.974343  50.923029  "
      ]
     },
     "execution_count": 330,
     "metadata": {},
     "output_type": "execute_result"
    }
   ],
   "source": [
    "sm.road_links.sample(1)"
   ]
  },
  {
   "cell_type": "code",
   "execution_count": 331,
   "metadata": {},
   "outputs": [
    {
     "data": {
      "text/html": [
       "<div>\n",
       "<style scoped>\n",
       "    .dataframe tbody tr th:only-of-type {\n",
       "        vertical-align: middle;\n",
       "    }\n",
       "\n",
       "    .dataframe tbody tr th {\n",
       "        vertical-align: top;\n",
       "    }\n",
       "\n",
       "    .dataframe thead th {\n",
       "        text-align: right;\n",
       "    }\n",
       "</style>\n",
       "<table border=\"1\" class=\"dataframe\">\n",
       "  <thead>\n",
       "    <tr style=\"text-align: right;\">\n",
       "      <th></th>\n",
       "      <th>a</th>\n",
       "      <th>b</th>\n",
       "      <th>length</th>\n",
       "      <th>geometry</th>\n",
       "      <th>highway</th>\n",
       "      <th>time</th>\n",
       "      <th>walk_time</th>\n",
       "    </tr>\n",
       "    <tr>\n",
       "      <th>index</th>\n",
       "      <th></th>\n",
       "      <th></th>\n",
       "      <th></th>\n",
       "      <th></th>\n",
       "      <th></th>\n",
       "      <th></th>\n",
       "      <th></th>\n",
       "    </tr>\n",
       "  </thead>\n",
       "  <tbody>\n",
       "    <tr>\n",
       "      <th>38062</th>\n",
       "      <td>997610446</td>\n",
       "      <td>297323550</td>\n",
       "      <td>84.974</td>\n",
       "      <td>LINESTRING (9.46750 54.76859, 9.46755 54.76936)</td>\n",
       "      <td>path</td>\n",
       "      <td>61.18128</td>\n",
       "      <td>61.18128</td>\n",
       "    </tr>\n",
       "  </tbody>\n",
       "</table>\n",
       "</div>"
      ],
      "text/plain": [
       "               a          b  length  \\\n",
       "index                                 \n",
       "38062  997610446  297323550  84.974   \n",
       "\n",
       "                                              geometry highway      time  \\\n",
       "index                                                                      \n",
       "38062  LINESTRING (9.46750 54.76859, 9.46755 54.76936)    path  61.18128   \n",
       "\n",
       "       walk_time  \n",
       "index             \n",
       "38062   61.18128  "
      ]
     },
     "execution_count": 331,
     "metadata": {},
     "output_type": "execute_result"
    }
   ],
   "source": [
    "sm.footpath_links.sample(1)"
   ]
  },
  {
   "cell_type": "markdown",
   "metadata": {},
   "source": [
    "### Cycle"
   ]
  },
  {
   "cell_type": "code",
   "execution_count": 332,
   "metadata": {},
   "outputs": [
    {
     "data": {
      "text/html": [
       "<div>\n",
       "<style scoped>\n",
       "    .dataframe tbody tr th:only-of-type {\n",
       "        vertical-align: middle;\n",
       "    }\n",
       "\n",
       "    .dataframe tbody tr th {\n",
       "        vertical-align: top;\n",
       "    }\n",
       "\n",
       "    .dataframe thead th {\n",
       "        text-align: right;\n",
       "    }\n",
       "</style>\n",
       "<table border=\"1\" class=\"dataframe\">\n",
       "  <thead>\n",
       "    <tr style=\"text-align: right;\">\n",
       "      <th></th>\n",
       "      <th>a</th>\n",
       "      <th>b</th>\n",
       "      <th>length</th>\n",
       "      <th>geometry</th>\n",
       "      <th>highway</th>\n",
       "    </tr>\n",
       "    <tr>\n",
       "      <th>index</th>\n",
       "      <th></th>\n",
       "      <th></th>\n",
       "      <th></th>\n",
       "      <th></th>\n",
       "      <th></th>\n",
       "    </tr>\n",
       "  </thead>\n",
       "  <tbody>\n",
       "    <tr>\n",
       "      <th>46101</th>\n",
       "      <td>1797435136</td>\n",
       "      <td>1797435123</td>\n",
       "      <td>41.278</td>\n",
       "      <td>LINESTRING (9.47121 54.79442, 9.47176 54.79423)</td>\n",
       "      <td>service</td>\n",
       "    </tr>\n",
       "  </tbody>\n",
       "</table>\n",
       "</div>"
      ],
      "text/plain": [
       "                a           b  length  \\\n",
       "index                                   \n",
       "46101  1797435136  1797435123  41.278   \n",
       "\n",
       "                                              geometry  highway  \n",
       "index                                                            \n",
       "46101  LINESTRING (9.47121 54.79442, 9.47176 54.79423)  service  "
      ]
     },
     "execution_count": 332,
     "metadata": {},
     "output_type": "execute_result"
    }
   ],
   "source": [
    "sm.bikelane_links.sample(1)"
   ]
  },
  {
   "cell_type": "code",
   "execution_count": 333,
   "metadata": {},
   "outputs": [
    {
     "data": {
      "text/html": [
       "<div>\n",
       "<style scoped>\n",
       "    .dataframe tbody tr th:only-of-type {\n",
       "        vertical-align: middle;\n",
       "    }\n",
       "\n",
       "    .dataframe tbody tr th {\n",
       "        vertical-align: top;\n",
       "    }\n",
       "\n",
       "    .dataframe thead th {\n",
       "        text-align: right;\n",
       "    }\n",
       "</style>\n",
       "<table border=\"1\" class=\"dataframe\">\n",
       "  <thead>\n",
       "    <tr style=\"text-align: right;\">\n",
       "      <th></th>\n",
       "      <th>trip_id</th>\n",
       "      <th>a</th>\n",
       "      <th>b</th>\n",
       "      <th>link_sequence</th>\n",
       "      <th>time</th>\n",
       "      <th>headway</th>\n",
       "      <th>pattern_id</th>\n",
       "      <th>route_id</th>\n",
       "      <th>service_id</th>\n",
       "      <th>direction_id</th>\n",
       "      <th>agency_id</th>\n",
       "      <th>route_type</th>\n",
       "      <th>disaggregated_a</th>\n",
       "      <th>disaggregated_b</th>\n",
       "      <th>geometry</th>\n",
       "      <th>length</th>\n",
       "    </tr>\n",
       "    <tr>\n",
       "      <th>index</th>\n",
       "      <th></th>\n",
       "      <th></th>\n",
       "      <th></th>\n",
       "      <th></th>\n",
       "      <th></th>\n",
       "      <th></th>\n",
       "      <th></th>\n",
       "      <th></th>\n",
       "      <th></th>\n",
       "      <th></th>\n",
       "      <th></th>\n",
       "      <th></th>\n",
       "      <th></th>\n",
       "      <th></th>\n",
       "      <th></th>\n",
       "      <th></th>\n",
       "    </tr>\n",
       "  </thead>\n",
       "  <tbody>\n",
       "    <tr>\n",
       "      <th>link_1102</th>\n",
       "      <td>5054_4</td>\n",
       "      <td>n_180</td>\n",
       "      <td>n_89</td>\n",
       "      <td>6</td>\n",
       "      <td>60.0</td>\n",
       "      <td>21600</td>\n",
       "      <td>5054_4</td>\n",
       "      <td>5054</td>\n",
       "      <td>59</td>\n",
       "      <td>0</td>\n",
       "      <td>136</td>\n",
       "      <td>bus</td>\n",
       "      <td>node_358908</td>\n",
       "      <td>node_75875</td>\n",
       "      <td>LINESTRING (9.46405 54.80916, 9.46069 54.80965)</td>\n",
       "      <td>171.173</td>\n",
       "    </tr>\n",
       "  </tbody>\n",
       "</table>\n",
       "</div>"
      ],
      "text/plain": [
       "          trip_id      a     b  link_sequence  time  headway pattern_id  \\\n",
       "index                                                                     \n",
       "link_1102  5054_4  n_180  n_89              6  60.0    21600     5054_4   \n",
       "\n",
       "          route_id service_id  direction_id agency_id route_type  \\\n",
       "index                                                              \n",
       "link_1102     5054         59             0       136        bus   \n",
       "\n",
       "          disaggregated_a disaggregated_b  \\\n",
       "index                                       \n",
       "link_1102     node_358908      node_75875   \n",
       "\n",
       "                                                  geometry   length  \n",
       "index                                                                \n",
       "link_1102  LINESTRING (9.46405 54.80916, 9.46069 54.80965)  171.173  "
      ]
     },
     "execution_count": 333,
     "metadata": {},
     "output_type": "execute_result"
    }
   ],
   "source": [
    "sm.links.sample(1)"
   ]
  },
  {
   "cell_type": "code",
   "execution_count": 334,
   "metadata": {},
   "outputs": [],
   "source": [
    "bike = sm.copy() # Copy the whole model and save it as 'bike'"
   ]
  },
  {
   "cell_type": "code",
   "execution_count": 335,
   "metadata": {},
   "outputs": [
    {
     "data": {
      "text/plain": [
       "dict_keys(['parameters', 'debug', 'walk_on_road', 'coordinates_unit', 'epsg', 'segments', 'checkpoint_links', 'loaded_links', 'links', 'road_links', 'footpaths', 'lines', 'networkcaster_neighbors', 'networkcaster_road_access', 'node_parenthood', 'road_to_transit', 'zone_to_transit', 'zone_to_road', 'checkpoint_nodes', 'loaded_nodes', 'nodes', 'road_nodes', 'centroids', 'disaggregated_nodes', 'micro_zones', 'zones', 'node_clusters', 'fare_rules', 'fare_attributes', 'mode_nests', 'logit_scales', 'utility_values', 'car_los', 'cycling_los', 'cycle_los', 'walk_los', 'jsons', 'bike_los', 'volumes', 'pt_los', 'footpath_links', 'dead_ends', 'circular_lines', 'broken_sequences', 'bikelane_links', 'footpath_nodes', 'bikelane_nodes'])"
      ]
     },
     "execution_count": 335,
     "metadata": {},
     "output_type": "execute_result"
    }
   ],
   "source": [
    "bike.__dict__.keys()"
   ]
  },
  {
   "cell_type": "code",
   "execution_count": 336,
   "metadata": {},
   "outputs": [],
   "source": [
    "bike.road_links = bike.bikelane_links # Act as if the walking links were road links\n",
    "bike.road_nodes = bike.bikelane_nodes # Same for nodes"
   ]
  },
  {
   "cell_type": "code",
   "execution_count": 337,
   "metadata": {},
   "outputs": [
    {
     "data": {
      "text/html": [
       "<div>\n",
       "<style scoped>\n",
       "    .dataframe tbody tr th:only-of-type {\n",
       "        vertical-align: middle;\n",
       "    }\n",
       "\n",
       "    .dataframe tbody tr th {\n",
       "        vertical-align: top;\n",
       "    }\n",
       "\n",
       "    .dataframe thead th {\n",
       "        text-align: right;\n",
       "    }\n",
       "</style>\n",
       "<table border=\"1\" class=\"dataframe\">\n",
       "  <thead>\n",
       "    <tr style=\"text-align: right;\">\n",
       "      <th></th>\n",
       "      <th>a</th>\n",
       "      <th>b</th>\n",
       "      <th>length</th>\n",
       "      <th>geometry</th>\n",
       "      <th>highway</th>\n",
       "    </tr>\n",
       "    <tr>\n",
       "      <th>index</th>\n",
       "      <th></th>\n",
       "      <th></th>\n",
       "      <th></th>\n",
       "      <th></th>\n",
       "      <th></th>\n",
       "    </tr>\n",
       "  </thead>\n",
       "  <tbody>\n",
       "    <tr>\n",
       "      <th>54738</th>\n",
       "      <td>2333576417</td>\n",
       "      <td>2333576422</td>\n",
       "      <td>43.663</td>\n",
       "      <td>LINESTRING (9.48284 54.77310, 9.48347 54.77323)</td>\n",
       "      <td>residential</td>\n",
       "    </tr>\n",
       "  </tbody>\n",
       "</table>\n",
       "</div>"
      ],
      "text/plain": [
       "                a           b  length  \\\n",
       "index                                   \n",
       "54738  2333576417  2333576422  43.663   \n",
       "\n",
       "                                              geometry      highway  \n",
       "index                                                                \n",
       "54738  LINESTRING (9.48284 54.77310, 9.48347 54.77323)  residential  "
      ]
     },
     "execution_count": 337,
     "metadata": {},
     "output_type": "execute_result"
    }
   ],
   "source": [
    "bike.road_links.sample()"
   ]
  },
  {
   "cell_type": "code",
   "execution_count": 338,
   "metadata": {},
   "outputs": [
    {
     "data": {
      "text/html": [
       "<div>\n",
       "<style scoped>\n",
       "    .dataframe tbody tr th:only-of-type {\n",
       "        vertical-align: middle;\n",
       "    }\n",
       "\n",
       "    .dataframe tbody tr th {\n",
       "        vertical-align: top;\n",
       "    }\n",
       "\n",
       "    .dataframe thead th {\n",
       "        text-align: right;\n",
       "    }\n",
       "</style>\n",
       "<table border=\"1\" class=\"dataframe\">\n",
       "  <thead>\n",
       "    <tr style=\"text-align: right;\">\n",
       "      <th></th>\n",
       "      <th>geometry</th>\n",
       "    </tr>\n",
       "    <tr>\n",
       "      <th>index</th>\n",
       "      <th></th>\n",
       "    </tr>\n",
       "  </thead>\n",
       "  <tbody>\n",
       "    <tr>\n",
       "      <th>295637926</th>\n",
       "      <td>POINT (9.45280 54.80231)</td>\n",
       "    </tr>\n",
       "  </tbody>\n",
       "</table>\n",
       "</div>"
      ],
      "text/plain": [
       "                           geometry\n",
       "index                              \n",
       "295637926  POINT (9.45280 54.80231)"
      ]
     },
     "execution_count": 338,
     "metadata": {},
     "output_type": "execute_result"
    }
   ],
   "source": [
    "bike.road_nodes.sample()"
   ]
  },
  {
   "cell_type": "code",
   "execution_count": 339,
   "metadata": {},
   "outputs": [],
   "source": [
    "#codes mit .links ausgelassen (da eigentlich nur für PT?)"
   ]
  },
  {
   "cell_type": "code",
   "execution_count": 340,
   "metadata": {},
   "outputs": [],
   "source": [
    "# Create the time LoS column for walking\n",
    "cycling_speed = 3.6111111111111 #Binnenverkehr 3.6111111111111 (13km/h) aus Mobilitätsbericht Flensburg (Durchschnitt Entfernung unter 5km und bis 10km)\n",
    "sm.bikelane_links['time'] = sm.bikelane_links['length'] / cycling_speed # m/s\n",
    "bike.road_links['time'] = bike.road_links['length'] / cycling_speed"
   ]
  },
  {
   "cell_type": "code",
   "execution_count": 341,
   "metadata": {},
   "outputs": [],
   "source": [
    "# If we want to compute walking paths on road links, we need a time for that to\n",
    "sm.bikelane_links['walk_time'] = sm.bikelane_links['time'] * 3.36 # walk time 1.25m/s"
   ]
  },
  {
   "cell_type": "code",
   "execution_count": 342,
   "metadata": {},
   "outputs": [
    {
     "data": {
      "text/html": [
       "<div>\n",
       "<style scoped>\n",
       "    .dataframe tbody tr th:only-of-type {\n",
       "        vertical-align: middle;\n",
       "    }\n",
       "\n",
       "    .dataframe tbody tr th {\n",
       "        vertical-align: top;\n",
       "    }\n",
       "\n",
       "    .dataframe thead th {\n",
       "        text-align: right;\n",
       "    }\n",
       "</style>\n",
       "<table border=\"1\" class=\"dataframe\">\n",
       "  <thead>\n",
       "    <tr style=\"text-align: right;\">\n",
       "      <th></th>\n",
       "      <th>a</th>\n",
       "      <th>b</th>\n",
       "      <th>length</th>\n",
       "      <th>geometry</th>\n",
       "      <th>highway</th>\n",
       "      <th>time</th>\n",
       "    </tr>\n",
       "    <tr>\n",
       "      <th>index</th>\n",
       "      <th></th>\n",
       "      <th></th>\n",
       "      <th></th>\n",
       "      <th></th>\n",
       "      <th></th>\n",
       "      <th></th>\n",
       "    </tr>\n",
       "  </thead>\n",
       "  <tbody>\n",
       "    <tr>\n",
       "      <th>1</th>\n",
       "      <td>21929576</td>\n",
       "      <td>9077610843</td>\n",
       "      <td>6.139</td>\n",
       "      <td>LINESTRING (9.46856 54.82250, 9.46864 54.82253)</td>\n",
       "      <td>path</td>\n",
       "      <td>1.700031</td>\n",
       "    </tr>\n",
       "    <tr>\n",
       "      <th>2</th>\n",
       "      <td>21929576</td>\n",
       "      <td>1851263511</td>\n",
       "      <td>31.839</td>\n",
       "      <td>LINESTRING (9.46856 54.82250, 9.46815 54.82266)</td>\n",
       "      <td>path</td>\n",
       "      <td>8.816954</td>\n",
       "    </tr>\n",
       "    <tr>\n",
       "      <th>3</th>\n",
       "      <td>21929576</td>\n",
       "      <td>3417612920</td>\n",
       "      <td>47.207</td>\n",
       "      <td>LINESTRING (9.46856 54.82250, 9.46917 54.82227)</td>\n",
       "      <td>path</td>\n",
       "      <td>13.072708</td>\n",
       "    </tr>\n",
       "    <tr>\n",
       "      <th>4</th>\n",
       "      <td>26012979</td>\n",
       "      <td>1288301276</td>\n",
       "      <td>25.413</td>\n",
       "      <td>LINESTRING (9.38537 54.77486, 9.38504 54.77473)</td>\n",
       "      <td>service</td>\n",
       "      <td>7.037446</td>\n",
       "    </tr>\n",
       "    <tr>\n",
       "      <th>5</th>\n",
       "      <td>26012979</td>\n",
       "      <td>2021498995</td>\n",
       "      <td>9.452</td>\n",
       "      <td>LINESTRING (9.38537 54.77486, 9.38549 54.77491)</td>\n",
       "      <td>path</td>\n",
       "      <td>2.617477</td>\n",
       "    </tr>\n",
       "    <tr>\n",
       "      <th>...</th>\n",
       "      <td>...</td>\n",
       "      <td>...</td>\n",
       "      <td>...</td>\n",
       "      <td>...</td>\n",
       "      <td>...</td>\n",
       "      <td>...</td>\n",
       "    </tr>\n",
       "    <tr>\n",
       "      <th>59745</th>\n",
       "      <td>9918461081</td>\n",
       "      <td>9918461067</td>\n",
       "      <td>3.670</td>\n",
       "      <td>LINESTRING (9.43406 54.79266, 9.43401 54.79265)</td>\n",
       "      <td>path</td>\n",
       "      <td>1.016308</td>\n",
       "    </tr>\n",
       "    <tr>\n",
       "      <th>59746</th>\n",
       "      <td>9918461067</td>\n",
       "      <td>9918461081</td>\n",
       "      <td>3.670</td>\n",
       "      <td>LINESTRING (9.43401 54.79265, 9.43406 54.79266)</td>\n",
       "      <td>path</td>\n",
       "      <td>1.016308</td>\n",
       "    </tr>\n",
       "    <tr>\n",
       "      <th>59747</th>\n",
       "      <td>1819999174</td>\n",
       "      <td>9929181776</td>\n",
       "      <td>8.573</td>\n",
       "      <td>LINESTRING (9.45075 54.77648, 9.45062 54.77646)</td>\n",
       "      <td>service</td>\n",
       "      <td>2.374062</td>\n",
       "    </tr>\n",
       "    <tr>\n",
       "      <th>59748</th>\n",
       "      <td>408986092</td>\n",
       "      <td>9929181776</td>\n",
       "      <td>45.601</td>\n",
       "      <td>LINESTRING (9.45047 54.77617, 9.45062 54.77646)</td>\n",
       "      <td>service</td>\n",
       "      <td>12.627969</td>\n",
       "    </tr>\n",
       "    <tr>\n",
       "      <th>59749</th>\n",
       "      <td>1819999285</td>\n",
       "      <td>9929181776</td>\n",
       "      <td>85.860</td>\n",
       "      <td>LINESTRING (9.45045 54.77717, 9.45062 54.77646)</td>\n",
       "      <td>service</td>\n",
       "      <td>23.776615</td>\n",
       "    </tr>\n",
       "  </tbody>\n",
       "</table>\n",
       "<p>59749 rows × 6 columns</p>\n",
       "</div>"
      ],
      "text/plain": [
       "                a           b  length  \\\n",
       "index                                   \n",
       "1        21929576  9077610843   6.139   \n",
       "2        21929576  1851263511  31.839   \n",
       "3        21929576  3417612920  47.207   \n",
       "4        26012979  1288301276  25.413   \n",
       "5        26012979  2021498995   9.452   \n",
       "...           ...         ...     ...   \n",
       "59745  9918461081  9918461067   3.670   \n",
       "59746  9918461067  9918461081   3.670   \n",
       "59747  1819999174  9929181776   8.573   \n",
       "59748   408986092  9929181776  45.601   \n",
       "59749  1819999285  9929181776  85.860   \n",
       "\n",
       "                                              geometry  highway       time  \n",
       "index                                                                       \n",
       "1      LINESTRING (9.46856 54.82250, 9.46864 54.82253)     path   1.700031  \n",
       "2      LINESTRING (9.46856 54.82250, 9.46815 54.82266)     path   8.816954  \n",
       "3      LINESTRING (9.46856 54.82250, 9.46917 54.82227)     path  13.072708  \n",
       "4      LINESTRING (9.38537 54.77486, 9.38504 54.77473)  service   7.037446  \n",
       "5      LINESTRING (9.38537 54.77486, 9.38549 54.77491)     path   2.617477  \n",
       "...                                                ...      ...        ...  \n",
       "59745  LINESTRING (9.43406 54.79266, 9.43401 54.79265)     path   1.016308  \n",
       "59746  LINESTRING (9.43401 54.79265, 9.43406 54.79266)     path   1.016308  \n",
       "59747  LINESTRING (9.45075 54.77648, 9.45062 54.77646)  service   2.374062  \n",
       "59748  LINESTRING (9.45047 54.77617, 9.45062 54.77646)  service  12.627969  \n",
       "59749  LINESTRING (9.45045 54.77717, 9.45062 54.77646)  service  23.776615  \n",
       "\n",
       "[59749 rows x 6 columns]"
      ]
     },
     "execution_count": 342,
     "metadata": {},
     "output_type": "execute_result"
    }
   ],
   "source": [
    "bike.road_links"
   ]
  },
  {
   "cell_type": "code",
   "execution_count": 343,
   "metadata": {},
   "outputs": [
    {
     "data": {
      "text/html": [
       "<div>\n",
       "<style scoped>\n",
       "    .dataframe tbody tr th:only-of-type {\n",
       "        vertical-align: middle;\n",
       "    }\n",
       "\n",
       "    .dataframe tbody tr th {\n",
       "        vertical-align: top;\n",
       "    }\n",
       "\n",
       "    .dataframe thead th {\n",
       "        text-align: right;\n",
       "    }\n",
       "</style>\n",
       "<table border=\"1\" class=\"dataframe\">\n",
       "  <thead>\n",
       "    <tr style=\"text-align: right;\">\n",
       "      <th></th>\n",
       "      <th>a</th>\n",
       "      <th>b</th>\n",
       "      <th>length</th>\n",
       "      <th>geometry</th>\n",
       "      <th>highway</th>\n",
       "      <th>time</th>\n",
       "      <th>walk_time</th>\n",
       "    </tr>\n",
       "    <tr>\n",
       "      <th>index</th>\n",
       "      <th></th>\n",
       "      <th></th>\n",
       "      <th></th>\n",
       "      <th></th>\n",
       "      <th></th>\n",
       "      <th></th>\n",
       "      <th></th>\n",
       "    </tr>\n",
       "  </thead>\n",
       "  <tbody>\n",
       "    <tr>\n",
       "      <th>41972</th>\n",
       "      <td>1688523241</td>\n",
       "      <td>1688523259</td>\n",
       "      <td>68.154</td>\n",
       "      <td>LINESTRING (9.44059 54.76520, 9.44159 54.76540)</td>\n",
       "      <td>residential</td>\n",
       "      <td>18.873415</td>\n",
       "      <td>63.414676</td>\n",
       "    </tr>\n",
       "  </tbody>\n",
       "</table>\n",
       "</div>"
      ],
      "text/plain": [
       "                a           b  length  \\\n",
       "index                                   \n",
       "41972  1688523241  1688523259  68.154   \n",
       "\n",
       "                                              geometry      highway  \\\n",
       "index                                                                 \n",
       "41972  LINESTRING (9.44059 54.76520, 9.44159 54.76540)  residential   \n",
       "\n",
       "            time  walk_time  \n",
       "index                        \n",
       "41972  18.873415  63.414676  "
      ]
     },
     "execution_count": 343,
     "metadata": {},
     "output_type": "execute_result"
    }
   ],
   "source": [
    "sm.bikelane_links.sample(1)"
   ]
  },
  {
   "cell_type": "markdown",
   "metadata": {},
   "source": [
    "## Pathfinding\n",
    "\n",
    "Next, we want to create a table of OD-relations for different modes, each, being representative for the performance of a specific mode on a specific OD pair.\n",
    "\n",
    "Quetzal has multiple options for path finding, seperated into one function wrapper for road and one for PT. They create the `car_los` and `pt_los tables`, respectively.\n",
    "\n",
    "For road transport, quetzal can simply compute one shortest path per OD pair or multiple ones if you had the capacities and volumes already saved in the model (comes from the assignment step at the very end). So, we just compute one path for now (`all_or_nothing=True`)\n",
    "\n",
    "The PT pathfinder has two relevant attributes: `broken_modes` and `broken_routes`. If both are `False`, the pathfinder just searches for the shortest path between every OD pair, considering all PT modes and routes. If `broken_modes=True`, the pathfinder searches shortest paths for every possible mode combination. If `broken_routes=True`, the pathfinder searches shortest paths for every possible route combination. \n",
    "Additionally you can decide whether walking connections shall be done on roadsides or not with the `walk_on_road` parameter (question of computation time)."
   ]
  },
  {
   "cell_type": "markdown",
   "metadata": {},
   "source": [
    "### Car"
   ]
  },
  {
   "cell_type": "code",
   "execution_count": 344,
   "metadata": {},
   "outputs": [],
   "source": [
    "# Simple road pathfinder\n",
    "sm.step_road_pathfinder(all_or_nothing=True)"
   ]
  },
  {
   "cell_type": "code",
   "execution_count": 345,
   "metadata": {},
   "outputs": [
    {
     "data": {
      "text/plain": [
       "121"
      ]
     },
     "execution_count": 345,
     "metadata": {},
     "output_type": "execute_result"
    }
   ],
   "source": [
    "len(sm.car_los)"
   ]
  },
  {
   "cell_type": "code",
   "execution_count": 346,
   "metadata": {},
   "outputs": [
    {
     "data": {
      "text/html": [
       "<div>\n",
       "<style scoped>\n",
       "    .dataframe tbody tr th:only-of-type {\n",
       "        vertical-align: middle;\n",
       "    }\n",
       "\n",
       "    .dataframe tbody tr th {\n",
       "        vertical-align: top;\n",
       "    }\n",
       "\n",
       "    .dataframe thead th {\n",
       "        text-align: right;\n",
       "    }\n",
       "</style>\n",
       "<table border=\"1\" class=\"dataframe\">\n",
       "  <thead>\n",
       "    <tr style=\"text-align: right;\">\n",
       "      <th></th>\n",
       "      <th>origin</th>\n",
       "      <th>destination</th>\n",
       "      <th>time</th>\n",
       "      <th>path</th>\n",
       "      <th>node_path</th>\n",
       "      <th>link_path</th>\n",
       "      <th>ntlegs</th>\n",
       "    </tr>\n",
       "  </thead>\n",
       "  <tbody>\n",
       "    <tr>\n",
       "      <th>12</th>\n",
       "      <td>zone_1</td>\n",
       "      <td>zone_1</td>\n",
       "      <td>0.000000</td>\n",
       "      <td>[zone_1]</td>\n",
       "      <td>[]</td>\n",
       "      <td>[]</td>\n",
       "      <td>[]</td>\n",
       "    </tr>\n",
       "    <tr>\n",
       "      <th>64</th>\n",
       "      <td>zone_4</td>\n",
       "      <td>zone_8</td>\n",
       "      <td>1083.615067</td>\n",
       "      <td>[zone_4, 325712391, 271098146, 315549401, 3155...</td>\n",
       "      <td>[325712391, 271098146, 315549401, 315549404, 3...</td>\n",
       "      <td>[5173, 6401, 6405, 6407, 6562, 5033, 6661, 772...</td>\n",
       "      <td>[(zone_4, 325712391), (310597434, zone_8)]</td>\n",
       "    </tr>\n",
       "    <tr>\n",
       "      <th>6</th>\n",
       "      <td>zone_0</td>\n",
       "      <td>zone_5</td>\n",
       "      <td>517.204336</td>\n",
       "      <td>[zone_0, 272871873, 272871697, 272871872, 2739...</td>\n",
       "      <td>[272871873, 272871697, 272871872, 273951209, 4...</td>\n",
       "      <td>[5418, 5423, 5460, 7128, 5463, 5483, 5350, 534...</td>\n",
       "      <td>[(zone_0, 272871873), (256372220, zone_5)]</td>\n",
       "    </tr>\n",
       "    <tr>\n",
       "      <th>49</th>\n",
       "      <td>zone_3</td>\n",
       "      <td>zone_4</td>\n",
       "      <td>1397.117497</td>\n",
       "      <td>[zone_3, 275240057, 248823783, 391535532, 2749...</td>\n",
       "      <td>[275240057, 248823783, 391535532, 274939007, 2...</td>\n",
       "      <td>[4412, 6941, 5606, 4809, 4811, 4687, 4683, 427...</td>\n",
       "      <td>[(zone_3, 275240057), (325712391, zone_4)]</td>\n",
       "    </tr>\n",
       "    <tr>\n",
       "      <th>118</th>\n",
       "      <td>zone_9</td>\n",
       "      <td>zone_7</td>\n",
       "      <td>1157.847062</td>\n",
       "      <td>[zone_9, 261584189, 261585311, 261576869, 4011...</td>\n",
       "      <td>[261584189, 261585311, 261576869, 40112820, 23...</td>\n",
       "      <td>[4524, 4514, 4248, 4362, 181, 7071, 4396, 4365...</td>\n",
       "      <td>[(zone_9, 261584189), (1688523512, zone_7)]</td>\n",
       "    </tr>\n",
       "  </tbody>\n",
       "</table>\n",
       "</div>"
      ],
      "text/plain": [
       "     origin destination         time  \\\n",
       "12   zone_1      zone_1     0.000000   \n",
       "64   zone_4      zone_8  1083.615067   \n",
       "6    zone_0      zone_5   517.204336   \n",
       "49   zone_3      zone_4  1397.117497   \n",
       "118  zone_9      zone_7  1157.847062   \n",
       "\n",
       "                                                  path  \\\n",
       "12                                            [zone_1]   \n",
       "64   [zone_4, 325712391, 271098146, 315549401, 3155...   \n",
       "6    [zone_0, 272871873, 272871697, 272871872, 2739...   \n",
       "49   [zone_3, 275240057, 248823783, 391535532, 2749...   \n",
       "118  [zone_9, 261584189, 261585311, 261576869, 4011...   \n",
       "\n",
       "                                             node_path  \\\n",
       "12                                                  []   \n",
       "64   [325712391, 271098146, 315549401, 315549404, 3...   \n",
       "6    [272871873, 272871697, 272871872, 273951209, 4...   \n",
       "49   [275240057, 248823783, 391535532, 274939007, 2...   \n",
       "118  [261584189, 261585311, 261576869, 40112820, 23...   \n",
       "\n",
       "                                             link_path  \\\n",
       "12                                                  []   \n",
       "64   [5173, 6401, 6405, 6407, 6562, 5033, 6661, 772...   \n",
       "6    [5418, 5423, 5460, 7128, 5463, 5483, 5350, 534...   \n",
       "49   [4412, 6941, 5606, 4809, 4811, 4687, 4683, 427...   \n",
       "118  [4524, 4514, 4248, 4362, 181, 7071, 4396, 4365...   \n",
       "\n",
       "                                          ntlegs  \n",
       "12                                            []  \n",
       "64    [(zone_4, 325712391), (310597434, zone_8)]  \n",
       "6     [(zone_0, 272871873), (256372220, zone_5)]  \n",
       "49    [(zone_3, 275240057), (325712391, zone_4)]  \n",
       "118  [(zone_9, 261584189), (1688523512, zone_7)]  "
      ]
     },
     "execution_count": 346,
     "metadata": {},
     "output_type": "execute_result"
    }
   ],
   "source": [
    "sm.car_los.sample(5)"
   ]
  },
  {
   "cell_type": "code",
   "execution_count": 347,
   "metadata": {},
   "outputs": [],
   "source": [
    "# Assign a length to LoS table\n",
    "# Create a dictionary of road link lengths\n",
    "len_dict = sm.road_links['length'].to_dict()\n",
    "# Apply it to the link path column (sum up all links for each path)\n",
    "sm.car_los['length'] = sm.car_los['link_path'].apply(\n",
    "    lambda l: sum([len_dict[i] for i in l]))"
   ]
  },
  {
   "cell_type": "code",
   "execution_count": 348,
   "metadata": {},
   "outputs": [],
   "source": [
    "# add the route type for sake of consistency\n",
    "sm.analysis_car_route_type()"
   ]
  },
  {
   "cell_type": "code",
   "execution_count": 349,
   "metadata": {},
   "outputs": [
    {
     "data": {
      "text/html": [
       "<div>\n",
       "<style scoped>\n",
       "    .dataframe tbody tr th:only-of-type {\n",
       "        vertical-align: middle;\n",
       "    }\n",
       "\n",
       "    .dataframe tbody tr th {\n",
       "        vertical-align: top;\n",
       "    }\n",
       "\n",
       "    .dataframe thead th {\n",
       "        text-align: right;\n",
       "    }\n",
       "</style>\n",
       "<table border=\"1\" class=\"dataframe\">\n",
       "  <thead>\n",
       "    <tr style=\"text-align: right;\">\n",
       "      <th></th>\n",
       "      <th>origin</th>\n",
       "      <th>destination</th>\n",
       "      <th>time</th>\n",
       "      <th>path</th>\n",
       "      <th>node_path</th>\n",
       "      <th>link_path</th>\n",
       "      <th>ntlegs</th>\n",
       "      <th>length</th>\n",
       "      <th>route_types</th>\n",
       "      <th>route_type</th>\n",
       "    </tr>\n",
       "  </thead>\n",
       "  <tbody>\n",
       "    <tr>\n",
       "      <th>73</th>\n",
       "      <td>zone_5</td>\n",
       "      <td>zone_6</td>\n",
       "      <td>1093.389284</td>\n",
       "      <td>[zone_5, 256372220, 272862385, 256372217, 2652...</td>\n",
       "      <td>[256372220, 272862385, 256372217, 265286398, 2...</td>\n",
       "      <td>[354, 1383, 353, 4727, 651, 310, 3229, 23, 331...</td>\n",
       "      <td>[(zone_5, 256372220), (340042073, zone_6)]</td>\n",
       "      <td>5149.855</td>\n",
       "      <td>(car,)</td>\n",
       "      <td>car</td>\n",
       "    </tr>\n",
       "  </tbody>\n",
       "</table>\n",
       "</div>"
      ],
      "text/plain": [
       "    origin destination         time  \\\n",
       "73  zone_5      zone_6  1093.389284   \n",
       "\n",
       "                                                 path  \\\n",
       "73  [zone_5, 256372220, 272862385, 256372217, 2652...   \n",
       "\n",
       "                                            node_path  \\\n",
       "73  [256372220, 272862385, 256372217, 265286398, 2...   \n",
       "\n",
       "                                            link_path  \\\n",
       "73  [354, 1383, 353, 4727, 651, 310, 3229, 23, 331...   \n",
       "\n",
       "                                        ntlegs    length route_types  \\\n",
       "73  [(zone_5, 256372220), (340042073, zone_6)]  5149.855      (car,)   \n",
       "\n",
       "   route_type  \n",
       "73        car  "
      ]
     },
     "execution_count": 349,
     "metadata": {},
     "output_type": "execute_result"
    }
   ],
   "source": [
    "sm.car_los.sample()"
   ]
  },
  {
   "cell_type": "code",
   "execution_count": 350,
   "metadata": {},
   "outputs": [
    {
     "data": {
      "text/plain": [
       "dict_keys(['parameters', 'debug', 'walk_on_road', 'coordinates_unit', 'epsg', 'segments', 'checkpoint_links', 'loaded_links', 'links', 'road_links', 'footpaths', 'lines', 'networkcaster_neighbors', 'networkcaster_road_access', 'node_parenthood', 'road_to_transit', 'zone_to_transit', 'zone_to_road', 'checkpoint_nodes', 'loaded_nodes', 'nodes', 'road_nodes', 'centroids', 'disaggregated_nodes', 'micro_zones', 'zones', 'node_clusters', 'fare_rules', 'fare_attributes', 'mode_nests', 'logit_scales', 'utility_values', 'car_los', 'cycling_los', 'cycle_los', 'walk_los', 'jsons', 'bike_los', 'volumes', 'pt_los', 'footpath_links', 'dead_ends', 'circular_lines', 'broken_sequences', 'bikelane_links', 'footpath_nodes', 'bikelane_nodes'])"
      ]
     },
     "execution_count": 350,
     "metadata": {},
     "output_type": "execute_result"
    }
   ],
   "source": [
    "sm.__dict__.keys()"
   ]
  },
  {
   "cell_type": "markdown",
   "metadata": {},
   "source": [
    "### Walk"
   ]
  },
  {
   "cell_type": "code",
   "execution_count": 351,
   "metadata": {},
   "outputs": [],
   "source": [
    "walk.step_road_pathfinder(all_or_nothing=True) # Find shortest paths"
   ]
  },
  {
   "cell_type": "code",
   "execution_count": 352,
   "metadata": {
    "scrolled": true
   },
   "outputs": [
    {
     "data": {
      "text/plain": [
       "dict_keys(['parameters', 'debug', 'walk_on_road', 'coordinates_unit', 'epsg', 'segments', 'checkpoint_links', 'loaded_links', 'links', 'road_links', 'footpaths', 'lines', 'networkcaster_neighbors', 'networkcaster_road_access', 'node_parenthood', 'road_to_transit', 'zone_to_transit', 'zone_to_road', 'checkpoint_nodes', 'loaded_nodes', 'nodes', 'road_nodes', 'centroids', 'disaggregated_nodes', 'micro_zones', 'zones', 'node_clusters', 'fare_rules', 'fare_attributes', 'mode_nests', 'logit_scales', 'utility_values', 'car_los', 'cycling_los', 'cycle_los', 'walk_los', 'jsons', 'bike_los', 'volumes', 'pt_los', 'footpath_links', 'dead_ends', 'circular_lines', 'broken_sequences', 'bikelane_links', 'footpath_nodes', 'bikelane_nodes'])"
      ]
     },
     "execution_count": 352,
     "metadata": {},
     "output_type": "execute_result"
    }
   ],
   "source": [
    "walk.__dict__.keys() #in (walk.)car_los sind meine walk_los gespeichert"
   ]
  },
  {
   "cell_type": "code",
   "execution_count": 353,
   "metadata": {},
   "outputs": [
    {
     "data": {
      "text/plain": [
       "121"
      ]
     },
     "execution_count": 353,
     "metadata": {},
     "output_type": "execute_result"
    }
   ],
   "source": [
    "len(walk.car_los)"
   ]
  },
  {
   "cell_type": "code",
   "execution_count": 354,
   "metadata": {},
   "outputs": [
    {
     "data": {
      "text/html": [
       "<div>\n",
       "<style scoped>\n",
       "    .dataframe tbody tr th:only-of-type {\n",
       "        vertical-align: middle;\n",
       "    }\n",
       "\n",
       "    .dataframe tbody tr th {\n",
       "        vertical-align: top;\n",
       "    }\n",
       "\n",
       "    .dataframe thead th {\n",
       "        text-align: right;\n",
       "    }\n",
       "</style>\n",
       "<table border=\"1\" class=\"dataframe\">\n",
       "  <thead>\n",
       "    <tr style=\"text-align: right;\">\n",
       "      <th></th>\n",
       "      <th>origin</th>\n",
       "      <th>destination</th>\n",
       "      <th>time</th>\n",
       "      <th>path</th>\n",
       "      <th>node_path</th>\n",
       "      <th>link_path</th>\n",
       "      <th>ntlegs</th>\n",
       "    </tr>\n",
       "  </thead>\n",
       "  <tbody>\n",
       "    <tr>\n",
       "      <th>0</th>\n",
       "      <td>zone_0</td>\n",
       "      <td>zone_0</td>\n",
       "      <td>0.000000</td>\n",
       "      <td>[zone_0]</td>\n",
       "      <td>[]</td>\n",
       "      <td>[]</td>\n",
       "      <td>[]</td>\n",
       "    </tr>\n",
       "    <tr>\n",
       "      <th>1</th>\n",
       "      <td>zone_0</td>\n",
       "      <td>zone_1</td>\n",
       "      <td>2683.769261</td>\n",
       "      <td>[zone_0, 455190153, 1783775397, 1783775384, 17...</td>\n",
       "      <td>[455190153, 1783775397, 1783775384, 1783775380...</td>\n",
       "      <td>[48218, 48215, 48211, 36435, 43110, 40855, 408...</td>\n",
       "      <td>[(zone_0, 455190153), (232927756, zone_1)]</td>\n",
       "    </tr>\n",
       "    <tr>\n",
       "      <th>2</th>\n",
       "      <td>zone_0</td>\n",
       "      <td>zone_10</td>\n",
       "      <td>2677.143919</td>\n",
       "      <td>[zone_0, 272871873, 272871697, 1783775445, 273...</td>\n",
       "      <td>[272871873, 272871697, 1783775445, 273957495, ...</td>\n",
       "      <td>[35341, 48242, 35454, 35354, 35459, 40804, 482...</td>\n",
       "      <td>[(zone_0, 272871873), (268370790, zone_10)]</td>\n",
       "    </tr>\n",
       "    <tr>\n",
       "      <th>3</th>\n",
       "      <td>zone_0</td>\n",
       "      <td>zone_2</td>\n",
       "      <td>3200.883655</td>\n",
       "      <td>[zone_0, 272871873, 272871697, 1783775445, 273...</td>\n",
       "      <td>[272871873, 272871697, 1783775445, 273957495, ...</td>\n",
       "      <td>[35341, 48242, 35454, 35354, 35459, 40804, 482...</td>\n",
       "      <td>[(zone_0, 272871873), (287252470, zone_2)]</td>\n",
       "    </tr>\n",
       "    <tr>\n",
       "      <th>4</th>\n",
       "      <td>zone_0</td>\n",
       "      <td>zone_3</td>\n",
       "      <td>2303.367050</td>\n",
       "      <td>[zone_0, 272871873, 272871697, 1784407787, 272...</td>\n",
       "      <td>[272871873, 272871697, 1784407787, 272871872, ...</td>\n",
       "      <td>[35341, 48280, 35343, 35434, 48254, 40679, 625...</td>\n",
       "      <td>[(zone_0, 272871873), (275240057, zone_3)]</td>\n",
       "    </tr>\n",
       "    <tr>\n",
       "      <th>...</th>\n",
       "      <td>...</td>\n",
       "      <td>...</td>\n",
       "      <td>...</td>\n",
       "      <td>...</td>\n",
       "      <td>...</td>\n",
       "      <td>...</td>\n",
       "      <td>...</td>\n",
       "    </tr>\n",
       "    <tr>\n",
       "      <th>116</th>\n",
       "      <td>zone_9</td>\n",
       "      <td>zone_5</td>\n",
       "      <td>2343.689182</td>\n",
       "      <td>[zone_9, 261584351, 1828711638, 1828711646, 18...</td>\n",
       "      <td>[261584351, 1828711638, 1828711646, 1828711678...</td>\n",
       "      <td>[53300, 53303, 53305, 33385, 53314, 53317, 325...</td>\n",
       "      <td>[(zone_9, 261584351), (276173474, zone_5)]</td>\n",
       "    </tr>\n",
       "    <tr>\n",
       "      <th>117</th>\n",
       "      <td>zone_9</td>\n",
       "      <td>zone_6</td>\n",
       "      <td>5494.129631</td>\n",
       "      <td>[zone_9, 261584351, 1828711638, 1828711646, 18...</td>\n",
       "      <td>[261584351, 1828711638, 1828711646, 1828711678...</td>\n",
       "      <td>[53300, 53303, 53305, 33385, 53314, 53317, 325...</td>\n",
       "      <td>[(zone_9, 261584351), (340042073, zone_6)]</td>\n",
       "    </tr>\n",
       "    <tr>\n",
       "      <th>118</th>\n",
       "      <td>zone_9</td>\n",
       "      <td>zone_7</td>\n",
       "      <td>3231.964659</td>\n",
       "      <td>[zone_9, 261602220, 261607602, 1828519845, 182...</td>\n",
       "      <td>[261602220, 261607602, 1828519845, 1828519855,...</td>\n",
       "      <td>[32965, 53149, 53152, 32967, 60779, 45929, 406...</td>\n",
       "      <td>[(zone_9, 261602220), (1688523652, zone_7)]</td>\n",
       "    </tr>\n",
       "    <tr>\n",
       "      <th>119</th>\n",
       "      <td>zone_9</td>\n",
       "      <td>zone_8</td>\n",
       "      <td>5821.593700</td>\n",
       "      <td>[zone_9, 261602220, 261607602, 1828519845, 182...</td>\n",
       "      <td>[261602220, 261607602, 1828519845, 1828519855,...</td>\n",
       "      <td>[32965, 53149, 53152, 32967, 60779, 45929, 406...</td>\n",
       "      <td>[(zone_9, 261602220), (310597434, zone_8)]</td>\n",
       "    </tr>\n",
       "    <tr>\n",
       "      <th>120</th>\n",
       "      <td>zone_9</td>\n",
       "      <td>zone_9</td>\n",
       "      <td>0.000000</td>\n",
       "      <td>[zone_9]</td>\n",
       "      <td>[]</td>\n",
       "      <td>[]</td>\n",
       "      <td>[]</td>\n",
       "    </tr>\n",
       "  </tbody>\n",
       "</table>\n",
       "<p>121 rows × 7 columns</p>\n",
       "</div>"
      ],
      "text/plain": [
       "     origin destination         time  \\\n",
       "0    zone_0      zone_0     0.000000   \n",
       "1    zone_0      zone_1  2683.769261   \n",
       "2    zone_0     zone_10  2677.143919   \n",
       "3    zone_0      zone_2  3200.883655   \n",
       "4    zone_0      zone_3  2303.367050   \n",
       "..      ...         ...          ...   \n",
       "116  zone_9      zone_5  2343.689182   \n",
       "117  zone_9      zone_6  5494.129631   \n",
       "118  zone_9      zone_7  3231.964659   \n",
       "119  zone_9      zone_8  5821.593700   \n",
       "120  zone_9      zone_9     0.000000   \n",
       "\n",
       "                                                  path  \\\n",
       "0                                             [zone_0]   \n",
       "1    [zone_0, 455190153, 1783775397, 1783775384, 17...   \n",
       "2    [zone_0, 272871873, 272871697, 1783775445, 273...   \n",
       "3    [zone_0, 272871873, 272871697, 1783775445, 273...   \n",
       "4    [zone_0, 272871873, 272871697, 1784407787, 272...   \n",
       "..                                                 ...   \n",
       "116  [zone_9, 261584351, 1828711638, 1828711646, 18...   \n",
       "117  [zone_9, 261584351, 1828711638, 1828711646, 18...   \n",
       "118  [zone_9, 261602220, 261607602, 1828519845, 182...   \n",
       "119  [zone_9, 261602220, 261607602, 1828519845, 182...   \n",
       "120                                           [zone_9]   \n",
       "\n",
       "                                             node_path  \\\n",
       "0                                                   []   \n",
       "1    [455190153, 1783775397, 1783775384, 1783775380...   \n",
       "2    [272871873, 272871697, 1783775445, 273957495, ...   \n",
       "3    [272871873, 272871697, 1783775445, 273957495, ...   \n",
       "4    [272871873, 272871697, 1784407787, 272871872, ...   \n",
       "..                                                 ...   \n",
       "116  [261584351, 1828711638, 1828711646, 1828711678...   \n",
       "117  [261584351, 1828711638, 1828711646, 1828711678...   \n",
       "118  [261602220, 261607602, 1828519845, 1828519855,...   \n",
       "119  [261602220, 261607602, 1828519845, 1828519855,...   \n",
       "120                                                 []   \n",
       "\n",
       "                                             link_path  \\\n",
       "0                                                   []   \n",
       "1    [48218, 48215, 48211, 36435, 43110, 40855, 408...   \n",
       "2    [35341, 48242, 35454, 35354, 35459, 40804, 482...   \n",
       "3    [35341, 48242, 35454, 35354, 35459, 40804, 482...   \n",
       "4    [35341, 48280, 35343, 35434, 48254, 40679, 625...   \n",
       "..                                                 ...   \n",
       "116  [53300, 53303, 53305, 33385, 53314, 53317, 325...   \n",
       "117  [53300, 53303, 53305, 33385, 53314, 53317, 325...   \n",
       "118  [32965, 53149, 53152, 32967, 60779, 45929, 406...   \n",
       "119  [32965, 53149, 53152, 32967, 60779, 45929, 406...   \n",
       "120                                                 []   \n",
       "\n",
       "                                          ntlegs  \n",
       "0                                             []  \n",
       "1     [(zone_0, 455190153), (232927756, zone_1)]  \n",
       "2    [(zone_0, 272871873), (268370790, zone_10)]  \n",
       "3     [(zone_0, 272871873), (287252470, zone_2)]  \n",
       "4     [(zone_0, 272871873), (275240057, zone_3)]  \n",
       "..                                           ...  \n",
       "116   [(zone_9, 261584351), (276173474, zone_5)]  \n",
       "117   [(zone_9, 261584351), (340042073, zone_6)]  \n",
       "118  [(zone_9, 261602220), (1688523652, zone_7)]  \n",
       "119   [(zone_9, 261602220), (310597434, zone_8)]  \n",
       "120                                           []  \n",
       "\n",
       "[121 rows x 7 columns]"
      ]
     },
     "execution_count": 354,
     "metadata": {},
     "output_type": "execute_result"
    }
   ],
   "source": [
    "walk.car_los"
   ]
  },
  {
   "cell_type": "code",
   "execution_count": 355,
   "metadata": {},
   "outputs": [],
   "source": [
    "# Assign a length to LoS table\n",
    "# Create a dictionary of road link lengths\n",
    "len_dict = walk.footpath_links['length'].to_dict()\n",
    "# Apply it to the link path column (sum up all links for each path)\n",
    "walk.car_los['length'] = walk.car_los['link_path'].apply(\n",
    "    lambda l: sum([len_dict[i] for i in l]))"
   ]
  },
  {
   "cell_type": "code",
   "execution_count": 356,
   "metadata": {},
   "outputs": [],
   "source": [
    "# add the route type for sake of consistency\n",
    "walk.analysis_car_route_type()\n",
    "#???"
   ]
  },
  {
   "cell_type": "code",
   "execution_count": 357,
   "metadata": {},
   "outputs": [],
   "source": [
    "# Save shortest paths table (LoS) in 'sm' and don't use 'walk' anymore\n",
    "sm.walk_los = walk.car_los\n",
    "#sm.footpath_links = walk.footpath_links # --> hier fehler?"
   ]
  },
  {
   "cell_type": "code",
   "execution_count": 358,
   "metadata": {},
   "outputs": [
    {
     "data": {
      "text/html": [
       "<div>\n",
       "<style scoped>\n",
       "    .dataframe tbody tr th:only-of-type {\n",
       "        vertical-align: middle;\n",
       "    }\n",
       "\n",
       "    .dataframe tbody tr th {\n",
       "        vertical-align: top;\n",
       "    }\n",
       "\n",
       "    .dataframe thead th {\n",
       "        text-align: right;\n",
       "    }\n",
       "</style>\n",
       "<table border=\"1\" class=\"dataframe\">\n",
       "  <thead>\n",
       "    <tr style=\"text-align: right;\">\n",
       "      <th></th>\n",
       "      <th>origin</th>\n",
       "      <th>destination</th>\n",
       "      <th>time</th>\n",
       "      <th>path</th>\n",
       "      <th>node_path</th>\n",
       "      <th>link_path</th>\n",
       "      <th>ntlegs</th>\n",
       "      <th>length</th>\n",
       "      <th>route_types</th>\n",
       "      <th>route_type</th>\n",
       "    </tr>\n",
       "  </thead>\n",
       "  <tbody>\n",
       "    <tr>\n",
       "      <th>38</th>\n",
       "      <td>zone_2</td>\n",
       "      <td>zone_4</td>\n",
       "      <td>2276.762434</td>\n",
       "      <td>[zone_2, 287252470, 2371511189, 287261892, 287...</td>\n",
       "      <td>[287252470, 2371511189, 287261892, 287262036, ...</td>\n",
       "      <td>[58596, 37172, 37178, 54313, 37173, 37183, 626...</td>\n",
       "      <td>[(zone_2, 287252470), (325712391, zone_4)]</td>\n",
       "      <td>2722.641</td>\n",
       "      <td>(car,)</td>\n",
       "      <td>car</td>\n",
       "    </tr>\n",
       "  </tbody>\n",
       "</table>\n",
       "</div>"
      ],
      "text/plain": [
       "    origin destination         time  \\\n",
       "38  zone_2      zone_4  2276.762434   \n",
       "\n",
       "                                                 path  \\\n",
       "38  [zone_2, 287252470, 2371511189, 287261892, 287...   \n",
       "\n",
       "                                            node_path  \\\n",
       "38  [287252470, 2371511189, 287261892, 287262036, ...   \n",
       "\n",
       "                                            link_path  \\\n",
       "38  [58596, 37172, 37178, 54313, 37173, 37183, 626...   \n",
       "\n",
       "                                        ntlegs    length route_types  \\\n",
       "38  [(zone_2, 287252470), (325712391, zone_4)]  2722.641      (car,)   \n",
       "\n",
       "   route_type  \n",
       "38        car  "
      ]
     },
     "execution_count": 358,
     "metadata": {},
     "output_type": "execute_result"
    }
   ],
   "source": [
    "sm.walk_los.sample()"
   ]
  },
  {
   "cell_type": "code",
   "execution_count": 359,
   "metadata": {},
   "outputs": [],
   "source": [
    "sm.walk_los['route_types'] = [('walk',) for i in sm.walk_los.index]"
   ]
  },
  {
   "cell_type": "code",
   "execution_count": 360,
   "metadata": {},
   "outputs": [],
   "source": [
    "sm.walk_los['route_type'] = 'walk'"
   ]
  },
  {
   "cell_type": "code",
   "execution_count": 361,
   "metadata": {},
   "outputs": [
    {
     "data": {
      "text/html": [
       "<div>\n",
       "<style scoped>\n",
       "    .dataframe tbody tr th:only-of-type {\n",
       "        vertical-align: middle;\n",
       "    }\n",
       "\n",
       "    .dataframe tbody tr th {\n",
       "        vertical-align: top;\n",
       "    }\n",
       "\n",
       "    .dataframe thead th {\n",
       "        text-align: right;\n",
       "    }\n",
       "</style>\n",
       "<table border=\"1\" class=\"dataframe\">\n",
       "  <thead>\n",
       "    <tr style=\"text-align: right;\">\n",
       "      <th></th>\n",
       "      <th>origin</th>\n",
       "      <th>destination</th>\n",
       "      <th>time</th>\n",
       "      <th>path</th>\n",
       "      <th>node_path</th>\n",
       "      <th>link_path</th>\n",
       "      <th>ntlegs</th>\n",
       "      <th>length</th>\n",
       "      <th>route_types</th>\n",
       "      <th>route_type</th>\n",
       "    </tr>\n",
       "  </thead>\n",
       "  <tbody>\n",
       "    <tr>\n",
       "      <th>85</th>\n",
       "      <td>zone_6</td>\n",
       "      <td>zone_7</td>\n",
       "      <td>4507.514253</td>\n",
       "      <td>[zone_6, 340042073, 1376866601, 1827690894, 13...</td>\n",
       "      <td>[340042073, 1376866601, 1827690894, 1376866574...</td>\n",
       "      <td>[43384, 52391, 43373, 43368, 43361, 43358, 523...</td>\n",
       "      <td>[(zone_6, 340042073), (1817875389, zone_7)]</td>\n",
       "      <td>5586.085</td>\n",
       "      <td>(walk,)</td>\n",
       "      <td>walk</td>\n",
       "    </tr>\n",
       "  </tbody>\n",
       "</table>\n",
       "</div>"
      ],
      "text/plain": [
       "    origin destination         time  \\\n",
       "85  zone_6      zone_7  4507.514253   \n",
       "\n",
       "                                                 path  \\\n",
       "85  [zone_6, 340042073, 1376866601, 1827690894, 13...   \n",
       "\n",
       "                                            node_path  \\\n",
       "85  [340042073, 1376866601, 1827690894, 1376866574...   \n",
       "\n",
       "                                            link_path  \\\n",
       "85  [43384, 52391, 43373, 43368, 43361, 43358, 523...   \n",
       "\n",
       "                                         ntlegs    length route_types  \\\n",
       "85  [(zone_6, 340042073), (1817875389, zone_7)]  5586.085     (walk,)   \n",
       "\n",
       "   route_type  \n",
       "85       walk  "
      ]
     },
     "execution_count": 361,
     "metadata": {},
     "output_type": "execute_result"
    }
   ],
   "source": [
    "sm.walk_los.sample()"
   ]
  },
  {
   "cell_type": "code",
   "execution_count": 362,
   "metadata": {},
   "outputs": [
    {
     "data": {
      "text/plain": [
       "dict_keys(['parameters', 'debug', 'walk_on_road', 'coordinates_unit', 'epsg', 'segments', 'checkpoint_links', 'loaded_links', 'links', 'road_links', 'footpaths', 'lines', 'networkcaster_neighbors', 'networkcaster_road_access', 'node_parenthood', 'road_to_transit', 'zone_to_transit', 'zone_to_road', 'checkpoint_nodes', 'loaded_nodes', 'nodes', 'road_nodes', 'centroids', 'disaggregated_nodes', 'micro_zones', 'zones', 'node_clusters', 'fare_rules', 'fare_attributes', 'mode_nests', 'logit_scales', 'utility_values', 'car_los', 'cycling_los', 'cycle_los', 'walk_los', 'jsons', 'bike_los', 'volumes', 'pt_los', 'footpath_links', 'dead_ends', 'circular_lines', 'broken_sequences', 'bikelane_links', 'footpath_nodes', 'bikelane_nodes'])"
      ]
     },
     "execution_count": 362,
     "metadata": {},
     "output_type": "execute_result"
    }
   ],
   "source": [
    "sm.__dict__.keys()"
   ]
  },
  {
   "cell_type": "markdown",
   "metadata": {},
   "source": [
    "### Bike"
   ]
  },
  {
   "cell_type": "code",
   "execution_count": 363,
   "metadata": {},
   "outputs": [],
   "source": [
    "bike.step_road_pathfinder(all_or_nothing=True) # Find shortest paths"
   ]
  },
  {
   "cell_type": "code",
   "execution_count": 364,
   "metadata": {},
   "outputs": [
    {
     "data": {
      "text/plain": [
       "dict_keys(['parameters', 'debug', 'walk_on_road', 'coordinates_unit', 'epsg', 'segments', 'checkpoint_links', 'loaded_links', 'links', 'road_links', 'footpaths', 'lines', 'networkcaster_neighbors', 'networkcaster_road_access', 'node_parenthood', 'road_to_transit', 'zone_to_transit', 'zone_to_road', 'checkpoint_nodes', 'loaded_nodes', 'nodes', 'road_nodes', 'centroids', 'disaggregated_nodes', 'micro_zones', 'zones', 'node_clusters', 'fare_rules', 'fare_attributes', 'mode_nests', 'logit_scales', 'utility_values', 'car_los', 'cycling_los', 'cycle_los', 'walk_los', 'jsons', 'bike_los', 'volumes', 'pt_los', 'footpath_links', 'dead_ends', 'circular_lines', 'broken_sequences', 'bikelane_links', 'footpath_nodes', 'bikelane_nodes'])"
      ]
     },
     "execution_count": 364,
     "metadata": {},
     "output_type": "execute_result"
    }
   ],
   "source": [
    "bike.__dict__.keys() #in (bike.)car_los sind meine bike_los gespeichert"
   ]
  },
  {
   "cell_type": "code",
   "execution_count": 365,
   "metadata": {},
   "outputs": [
    {
     "data": {
      "text/plain": [
       "121"
      ]
     },
     "execution_count": 365,
     "metadata": {},
     "output_type": "execute_result"
    }
   ],
   "source": [
    "len(bike.car_los)"
   ]
  },
  {
   "cell_type": "code",
   "execution_count": 366,
   "metadata": {},
   "outputs": [
    {
     "data": {
      "text/html": [
       "<div>\n",
       "<style scoped>\n",
       "    .dataframe tbody tr th:only-of-type {\n",
       "        vertical-align: middle;\n",
       "    }\n",
       "\n",
       "    .dataframe tbody tr th {\n",
       "        vertical-align: top;\n",
       "    }\n",
       "\n",
       "    .dataframe thead th {\n",
       "        text-align: right;\n",
       "    }\n",
       "</style>\n",
       "<table border=\"1\" class=\"dataframe\">\n",
       "  <thead>\n",
       "    <tr style=\"text-align: right;\">\n",
       "      <th></th>\n",
       "      <th>origin</th>\n",
       "      <th>destination</th>\n",
       "      <th>time</th>\n",
       "      <th>path</th>\n",
       "      <th>node_path</th>\n",
       "      <th>link_path</th>\n",
       "      <th>ntlegs</th>\n",
       "    </tr>\n",
       "  </thead>\n",
       "  <tbody>\n",
       "    <tr>\n",
       "      <th>0</th>\n",
       "      <td>zone_0</td>\n",
       "      <td>zone_0</td>\n",
       "      <td>0.000000</td>\n",
       "      <td>[zone_0]</td>\n",
       "      <td>[]</td>\n",
       "      <td>[]</td>\n",
       "      <td>[]</td>\n",
       "    </tr>\n",
       "    <tr>\n",
       "      <th>1</th>\n",
       "      <td>zone_0</td>\n",
       "      <td>zone_1</td>\n",
       "      <td>1243.768870</td>\n",
       "      <td>[zone_0, 272871873, 272871697, 1783775445, 273...</td>\n",
       "      <td>[272871873, 272871697, 1783775445, 273957495, ...</td>\n",
       "      <td>[32879, 44860, 32981, 37932, 44836, 44833, 448...</td>\n",
       "      <td>[(zone_0, 272871873), (654163515, zone_1)]</td>\n",
       "    </tr>\n",
       "    <tr>\n",
       "      <th>2</th>\n",
       "      <td>zone_0</td>\n",
       "      <td>zone_10</td>\n",
       "      <td>1303.153297</td>\n",
       "      <td>[zone_0, 272871873, 272871697, 1784407787, 272...</td>\n",
       "      <td>[272871873, 272871697, 1784407787, 272871872, ...</td>\n",
       "      <td>[32879, 44895, 32881, 32961, 44875, 37888, 449...</td>\n",
       "      <td>[(zone_0, 272871873), (268370790, zone_10)]</td>\n",
       "    </tr>\n",
       "    <tr>\n",
       "      <th>3</th>\n",
       "      <td>zone_0</td>\n",
       "      <td>zone_2</td>\n",
       "      <td>1385.544942</td>\n",
       "      <td>[zone_0, 272871873, 272871697, 1784407787, 272...</td>\n",
       "      <td>[272871873, 272871697, 1784407787, 272871872, ...</td>\n",
       "      <td>[32879, 44895, 32881, 32961, 44875, 37888, 449...</td>\n",
       "      <td>[(zone_0, 272871873), (287252470, zone_2)]</td>\n",
       "    </tr>\n",
       "    <tr>\n",
       "      <th>4</th>\n",
       "      <td>zone_0</td>\n",
       "      <td>zone_3</td>\n",
       "      <td>984.285235</td>\n",
       "      <td>[zone_0, 272871873, 272871697, 1784407787, 272...</td>\n",
       "      <td>[272871873, 272871697, 1784407787, 272871872, ...</td>\n",
       "      <td>[32879, 44895, 32881, 32961, 44868, 37765, 583...</td>\n",
       "      <td>[(zone_0, 272871873), (275240057, zone_3)]</td>\n",
       "    </tr>\n",
       "    <tr>\n",
       "      <th>...</th>\n",
       "      <td>...</td>\n",
       "      <td>...</td>\n",
       "      <td>...</td>\n",
       "      <td>...</td>\n",
       "      <td>...</td>\n",
       "      <td>...</td>\n",
       "      <td>...</td>\n",
       "    </tr>\n",
       "    <tr>\n",
       "      <th>116</th>\n",
       "      <td>zone_9</td>\n",
       "      <td>zone_5</td>\n",
       "      <td>1059.278361</td>\n",
       "      <td>[zone_9, 261602220, 261607602, 1828519845, 182...</td>\n",
       "      <td>[261602220, 261607602, 1828519845, 1828519855,...</td>\n",
       "      <td>[30830, 49567, 49570, 30832, 56869, 49626, 308...</td>\n",
       "      <td>[(zone_9, 261602220), (256372220, zone_5)]</td>\n",
       "    </tr>\n",
       "    <tr>\n",
       "      <th>117</th>\n",
       "      <td>zone_9</td>\n",
       "      <td>zone_6</td>\n",
       "      <td>2274.922982</td>\n",
       "      <td>[zone_9, 261602220, 261607602, 1828519845, 182...</td>\n",
       "      <td>[261602220, 261607602, 1828519845, 1828519855,...</td>\n",
       "      <td>[30830, 49567, 49570, 30832, 56869, 42662, 377...</td>\n",
       "      <td>[(zone_9, 261602220), (340042073, zone_6)]</td>\n",
       "    </tr>\n",
       "    <tr>\n",
       "      <th>118</th>\n",
       "      <td>zone_9</td>\n",
       "      <td>zone_7</td>\n",
       "      <td>1457.997311</td>\n",
       "      <td>[zone_9, 261602220, 261607602, 1828519845, 182...</td>\n",
       "      <td>[261602220, 261607602, 1828519845, 1828519855,...</td>\n",
       "      <td>[30830, 49567, 49570, 30832, 56869, 42662, 377...</td>\n",
       "      <td>[(zone_9, 261602220), (1688523652, zone_7)]</td>\n",
       "    </tr>\n",
       "    <tr>\n",
       "      <th>119</th>\n",
       "      <td>zone_9</td>\n",
       "      <td>zone_8</td>\n",
       "      <td>2476.750844</td>\n",
       "      <td>[zone_9, 261602220, 261607602, 1828519845, 182...</td>\n",
       "      <td>[261602220, 261607602, 1828519845, 1828519855,...</td>\n",
       "      <td>[30830, 49567, 49570, 30832, 56869, 42662, 377...</td>\n",
       "      <td>[(zone_9, 261602220), (310597434, zone_8)]</td>\n",
       "    </tr>\n",
       "    <tr>\n",
       "      <th>120</th>\n",
       "      <td>zone_9</td>\n",
       "      <td>zone_9</td>\n",
       "      <td>0.000000</td>\n",
       "      <td>[zone_9]</td>\n",
       "      <td>[]</td>\n",
       "      <td>[]</td>\n",
       "      <td>[]</td>\n",
       "    </tr>\n",
       "  </tbody>\n",
       "</table>\n",
       "<p>121 rows × 7 columns</p>\n",
       "</div>"
      ],
      "text/plain": [
       "     origin destination         time  \\\n",
       "0    zone_0      zone_0     0.000000   \n",
       "1    zone_0      zone_1  1243.768870   \n",
       "2    zone_0     zone_10  1303.153297   \n",
       "3    zone_0      zone_2  1385.544942   \n",
       "4    zone_0      zone_3   984.285235   \n",
       "..      ...         ...          ...   \n",
       "116  zone_9      zone_5  1059.278361   \n",
       "117  zone_9      zone_6  2274.922982   \n",
       "118  zone_9      zone_7  1457.997311   \n",
       "119  zone_9      zone_8  2476.750844   \n",
       "120  zone_9      zone_9     0.000000   \n",
       "\n",
       "                                                  path  \\\n",
       "0                                             [zone_0]   \n",
       "1    [zone_0, 272871873, 272871697, 1783775445, 273...   \n",
       "2    [zone_0, 272871873, 272871697, 1784407787, 272...   \n",
       "3    [zone_0, 272871873, 272871697, 1784407787, 272...   \n",
       "4    [zone_0, 272871873, 272871697, 1784407787, 272...   \n",
       "..                                                 ...   \n",
       "116  [zone_9, 261602220, 261607602, 1828519845, 182...   \n",
       "117  [zone_9, 261602220, 261607602, 1828519845, 182...   \n",
       "118  [zone_9, 261602220, 261607602, 1828519845, 182...   \n",
       "119  [zone_9, 261602220, 261607602, 1828519845, 182...   \n",
       "120                                           [zone_9]   \n",
       "\n",
       "                                             node_path  \\\n",
       "0                                                   []   \n",
       "1    [272871873, 272871697, 1783775445, 273957495, ...   \n",
       "2    [272871873, 272871697, 1784407787, 272871872, ...   \n",
       "3    [272871873, 272871697, 1784407787, 272871872, ...   \n",
       "4    [272871873, 272871697, 1784407787, 272871872, ...   \n",
       "..                                                 ...   \n",
       "116  [261602220, 261607602, 1828519845, 1828519855,...   \n",
       "117  [261602220, 261607602, 1828519845, 1828519855,...   \n",
       "118  [261602220, 261607602, 1828519845, 1828519855,...   \n",
       "119  [261602220, 261607602, 1828519845, 1828519855,...   \n",
       "120                                                 []   \n",
       "\n",
       "                                             link_path  \\\n",
       "0                                                   []   \n",
       "1    [32879, 44860, 32981, 37932, 44836, 44833, 448...   \n",
       "2    [32879, 44895, 32881, 32961, 44875, 37888, 449...   \n",
       "3    [32879, 44895, 32881, 32961, 44875, 37888, 449...   \n",
       "4    [32879, 44895, 32881, 32961, 44868, 37765, 583...   \n",
       "..                                                 ...   \n",
       "116  [30830, 49567, 49570, 30832, 56869, 49626, 308...   \n",
       "117  [30830, 49567, 49570, 30832, 56869, 42662, 377...   \n",
       "118  [30830, 49567, 49570, 30832, 56869, 42662, 377...   \n",
       "119  [30830, 49567, 49570, 30832, 56869, 42662, 377...   \n",
       "120                                                 []   \n",
       "\n",
       "                                          ntlegs  \n",
       "0                                             []  \n",
       "1     [(zone_0, 272871873), (654163515, zone_1)]  \n",
       "2    [(zone_0, 272871873), (268370790, zone_10)]  \n",
       "3     [(zone_0, 272871873), (287252470, zone_2)]  \n",
       "4     [(zone_0, 272871873), (275240057, zone_3)]  \n",
       "..                                           ...  \n",
       "116   [(zone_9, 261602220), (256372220, zone_5)]  \n",
       "117   [(zone_9, 261602220), (340042073, zone_6)]  \n",
       "118  [(zone_9, 261602220), (1688523652, zone_7)]  \n",
       "119   [(zone_9, 261602220), (310597434, zone_8)]  \n",
       "120                                           []  \n",
       "\n",
       "[121 rows x 7 columns]"
      ]
     },
     "execution_count": 366,
     "metadata": {},
     "output_type": "execute_result"
    }
   ],
   "source": [
    "bike.car_los"
   ]
  },
  {
   "cell_type": "code",
   "execution_count": 367,
   "metadata": {},
   "outputs": [],
   "source": [
    "# Assign a length to LoS table\n",
    "# Create a dictionary of road link lengths\n",
    "len_dict = bike.bikelane_links['length'].to_dict()\n",
    "# Apply it to the link path column (sum up all links for each path)\n",
    "bike.car_los['length'] = bike.car_los['link_path'].apply(\n",
    "    lambda l: sum([len_dict[i] for i in l]))"
   ]
  },
  {
   "cell_type": "code",
   "execution_count": 368,
   "metadata": {},
   "outputs": [],
   "source": [
    "# add the route type for sake of consistency\n",
    "bike.analysis_car_route_type()"
   ]
  },
  {
   "cell_type": "code",
   "execution_count": 369,
   "metadata": {},
   "outputs": [],
   "source": [
    "# Save shortest paths table (LoS) in 'sm' and don't use 'bike' anymore\n",
    "sm.bike_los = bike.car_los"
   ]
  },
  {
   "cell_type": "code",
   "execution_count": 370,
   "metadata": {},
   "outputs": [
    {
     "data": {
      "text/html": [
       "<div>\n",
       "<style scoped>\n",
       "    .dataframe tbody tr th:only-of-type {\n",
       "        vertical-align: middle;\n",
       "    }\n",
       "\n",
       "    .dataframe tbody tr th {\n",
       "        vertical-align: top;\n",
       "    }\n",
       "\n",
       "    .dataframe thead th {\n",
       "        text-align: right;\n",
       "    }\n",
       "</style>\n",
       "<table border=\"1\" class=\"dataframe\">\n",
       "  <thead>\n",
       "    <tr style=\"text-align: right;\">\n",
       "      <th></th>\n",
       "      <th>origin</th>\n",
       "      <th>destination</th>\n",
       "      <th>time</th>\n",
       "      <th>path</th>\n",
       "      <th>node_path</th>\n",
       "      <th>link_path</th>\n",
       "      <th>ntlegs</th>\n",
       "      <th>length</th>\n",
       "      <th>route_types</th>\n",
       "      <th>route_type</th>\n",
       "    </tr>\n",
       "  </thead>\n",
       "  <tbody>\n",
       "    <tr>\n",
       "      <th>116</th>\n",
       "      <td>zone_9</td>\n",
       "      <td>zone_5</td>\n",
       "      <td>1059.278361</td>\n",
       "      <td>[zone_9, 261602220, 261607602, 1828519845, 182...</td>\n",
       "      <td>[261602220, 261607602, 1828519845, 1828519855,...</td>\n",
       "      <td>[30830, 49567, 49570, 30832, 56869, 49626, 308...</td>\n",
       "      <td>[(zone_9, 261602220), (256372220, zone_5)]</td>\n",
       "      <td>3191.612</td>\n",
       "      <td>(car,)</td>\n",
       "      <td>car</td>\n",
       "    </tr>\n",
       "  </tbody>\n",
       "</table>\n",
       "</div>"
      ],
      "text/plain": [
       "     origin destination         time  \\\n",
       "116  zone_9      zone_5  1059.278361   \n",
       "\n",
       "                                                  path  \\\n",
       "116  [zone_9, 261602220, 261607602, 1828519845, 182...   \n",
       "\n",
       "                                             node_path  \\\n",
       "116  [261602220, 261607602, 1828519845, 1828519855,...   \n",
       "\n",
       "                                             link_path  \\\n",
       "116  [30830, 49567, 49570, 30832, 56869, 49626, 308...   \n",
       "\n",
       "                                         ntlegs    length route_types  \\\n",
       "116  [(zone_9, 261602220), (256372220, zone_5)]  3191.612      (car,)   \n",
       "\n",
       "    route_type  \n",
       "116        car  "
      ]
     },
     "execution_count": 370,
     "metadata": {},
     "output_type": "execute_result"
    }
   ],
   "source": [
    "sm.bike_los.sample()"
   ]
  },
  {
   "cell_type": "code",
   "execution_count": 371,
   "metadata": {},
   "outputs": [],
   "source": [
    "sm.bike_los['route_types'] = [('cycling',) for i in sm.bike_los.index]"
   ]
  },
  {
   "cell_type": "code",
   "execution_count": 372,
   "metadata": {},
   "outputs": [],
   "source": [
    "sm.bike_los['route_type'] = 'cycling'"
   ]
  },
  {
   "cell_type": "code",
   "execution_count": 373,
   "metadata": {},
   "outputs": [
    {
     "data": {
      "text/html": [
       "<div>\n",
       "<style scoped>\n",
       "    .dataframe tbody tr th:only-of-type {\n",
       "        vertical-align: middle;\n",
       "    }\n",
       "\n",
       "    .dataframe tbody tr th {\n",
       "        vertical-align: top;\n",
       "    }\n",
       "\n",
       "    .dataframe thead th {\n",
       "        text-align: right;\n",
       "    }\n",
       "</style>\n",
       "<table border=\"1\" class=\"dataframe\">\n",
       "  <thead>\n",
       "    <tr style=\"text-align: right;\">\n",
       "      <th></th>\n",
       "      <th>origin</th>\n",
       "      <th>destination</th>\n",
       "      <th>time</th>\n",
       "      <th>path</th>\n",
       "      <th>node_path</th>\n",
       "      <th>link_path</th>\n",
       "      <th>ntlegs</th>\n",
       "      <th>length</th>\n",
       "      <th>route_types</th>\n",
       "      <th>route_type</th>\n",
       "    </tr>\n",
       "  </thead>\n",
       "  <tbody>\n",
       "    <tr>\n",
       "      <th>33</th>\n",
       "      <td>zone_2</td>\n",
       "      <td>zone_0</td>\n",
       "      <td>1405.199004</td>\n",
       "      <td>[zone_2, 287252470, 73221116, 2371511188, 1832...</td>\n",
       "      <td>[287252470, 73221116, 2371511188, 1832312827, ...</td>\n",
       "      <td>[30347, 54913, 50031, 50061, 50028, 54981, 500...</td>\n",
       "      <td>[(zone_2, 287252470), (272871873, zone_0)]</td>\n",
       "      <td>4275.704</td>\n",
       "      <td>(cycling,)</td>\n",
       "      <td>cycling</td>\n",
       "    </tr>\n",
       "  </tbody>\n",
       "</table>\n",
       "</div>"
      ],
      "text/plain": [
       "    origin destination         time  \\\n",
       "33  zone_2      zone_0  1405.199004   \n",
       "\n",
       "                                                 path  \\\n",
       "33  [zone_2, 287252470, 73221116, 2371511188, 1832...   \n",
       "\n",
       "                                            node_path  \\\n",
       "33  [287252470, 73221116, 2371511188, 1832312827, ...   \n",
       "\n",
       "                                            link_path  \\\n",
       "33  [30347, 54913, 50031, 50061, 50028, 54981, 500...   \n",
       "\n",
       "                                        ntlegs    length route_types  \\\n",
       "33  [(zone_2, 287252470), (272871873, zone_0)]  4275.704  (cycling,)   \n",
       "\n",
       "   route_type  \n",
       "33    cycling  "
      ]
     },
     "execution_count": 373,
     "metadata": {},
     "output_type": "execute_result"
    }
   ],
   "source": [
    "sm.bike_los.sample()"
   ]
  },
  {
   "cell_type": "code",
   "execution_count": 374,
   "metadata": {},
   "outputs": [
    {
     "data": {
      "text/plain": [
       "dict_keys(['parameters', 'debug', 'walk_on_road', 'coordinates_unit', 'epsg', 'segments', 'checkpoint_links', 'loaded_links', 'links', 'road_links', 'footpaths', 'lines', 'networkcaster_neighbors', 'networkcaster_road_access', 'node_parenthood', 'road_to_transit', 'zone_to_transit', 'zone_to_road', 'checkpoint_nodes', 'loaded_nodes', 'nodes', 'road_nodes', 'centroids', 'disaggregated_nodes', 'micro_zones', 'zones', 'node_clusters', 'fare_rules', 'fare_attributes', 'mode_nests', 'logit_scales', 'utility_values', 'car_los', 'cycling_los', 'cycle_los', 'walk_los', 'jsons', 'bike_los', 'volumes', 'pt_los', 'footpath_links', 'dead_ends', 'circular_lines', 'broken_sequences', 'bikelane_links', 'footpath_nodes', 'bikelane_nodes'])"
      ]
     },
     "execution_count": 374,
     "metadata": {},
     "output_type": "execute_result"
    }
   ],
   "source": [
    "sm.__dict__.keys()"
   ]
  },
  {
   "cell_type": "markdown",
   "metadata": {},
   "source": [
    "### PT"
   ]
  },
  {
   "cell_type": "code",
   "execution_count": 375,
   "metadata": {},
   "outputs": [
    {
     "name": "stderr",
     "output_type": "stream",
     "text": [
      "path_analysis: 100%|███████████████████████| 121/121 [00:00<00:00, 77164.48it/s]\n"
     ]
    }
   ],
   "source": [
    "# Simple PT\n",
    "sm.step_pt_pathfinder(broken_modes=False, broken_routes=False, walk_on_road=False)"
   ]
  },
  {
   "cell_type": "code",
   "execution_count": 376,
   "metadata": {},
   "outputs": [
    {
     "data": {
      "text/plain": [
       "121"
      ]
     },
     "execution_count": 376,
     "metadata": {},
     "output_type": "execute_result"
    }
   ],
   "source": [
    "len(sm.pt_los)"
   ]
  },
  {
   "cell_type": "code",
   "execution_count": 377,
   "metadata": {},
   "outputs": [
    {
     "data": {
      "text/html": [
       "<div>\n",
       "<style scoped>\n",
       "    .dataframe tbody tr th:only-of-type {\n",
       "        vertical-align: middle;\n",
       "    }\n",
       "\n",
       "    .dataframe tbody tr th {\n",
       "        vertical-align: top;\n",
       "    }\n",
       "\n",
       "    .dataframe thead th {\n",
       "        text-align: right;\n",
       "    }\n",
       "</style>\n",
       "<table border=\"1\" class=\"dataframe\">\n",
       "  <thead>\n",
       "    <tr style=\"text-align: right;\">\n",
       "      <th></th>\n",
       "      <th>origin</th>\n",
       "      <th>destination</th>\n",
       "      <th>gtime</th>\n",
       "      <th>path</th>\n",
       "      <th>pathfinder_session</th>\n",
       "      <th>reversed</th>\n",
       "      <th>boardings</th>\n",
       "      <th>alightings</th>\n",
       "      <th>node_path</th>\n",
       "      <th>link_path</th>\n",
       "      <th>footpaths</th>\n",
       "      <th>ntlegs</th>\n",
       "      <th>transfers</th>\n",
       "      <th>boarding_links</th>\n",
       "      <th>alighting_links</th>\n",
       "      <th>all_walk</th>\n",
       "      <th>ntransfers</th>\n",
       "      <th>time_link_path</th>\n",
       "      <th>length_link_path</th>\n",
       "    </tr>\n",
       "  </thead>\n",
       "  <tbody>\n",
       "    <tr>\n",
       "      <th>32</th>\n",
       "      <td>zone_10</td>\n",
       "      <td>zone_9</td>\n",
       "      <td>2330.6889</td>\n",
       "      <td>(zone_10, n_79, link_606, link_607, link_608, ...</td>\n",
       "      <td>best_path</td>\n",
       "      <td>False</td>\n",
       "      <td>[n_79]</td>\n",
       "      <td>[n_90]</td>\n",
       "      <td>[n_79, n_90]</td>\n",
       "      <td>[link_606, link_607, link_608, link_609, link_...</td>\n",
       "      <td>[]</td>\n",
       "      <td>[(zone_10, n_79), (n_90, zone_9)]</td>\n",
       "      <td>[]</td>\n",
       "      <td>[link_606]</td>\n",
       "      <td>[link_616]</td>\n",
       "      <td>False</td>\n",
       "      <td>0</td>\n",
       "      <td>900.0</td>\n",
       "      <td>5634.754</td>\n",
       "    </tr>\n",
       "  </tbody>\n",
       "</table>\n",
       "</div>"
      ],
      "text/plain": [
       "     origin destination      gtime  \\\n",
       "32  zone_10      zone_9  2330.6889   \n",
       "\n",
       "                                                 path pathfinder_session  \\\n",
       "32  (zone_10, n_79, link_606, link_607, link_608, ...          best_path   \n",
       "\n",
       "    reversed boardings alightings     node_path  \\\n",
       "32     False    [n_79]     [n_90]  [n_79, n_90]   \n",
       "\n",
       "                                            link_path footpaths  \\\n",
       "32  [link_606, link_607, link_608, link_609, link_...        []   \n",
       "\n",
       "                               ntlegs transfers boarding_links  \\\n",
       "32  [(zone_10, n_79), (n_90, zone_9)]        []     [link_606]   \n",
       "\n",
       "   alighting_links  all_walk  ntransfers  time_link_path  length_link_path  \n",
       "32      [link_616]     False           0           900.0          5634.754  "
      ]
     },
     "execution_count": 377,
     "metadata": {},
     "output_type": "execute_result"
    }
   ],
   "source": [
    "sm.pt_los.sample()"
   ]
  },
  {
   "cell_type": "code",
   "execution_count": 378,
   "metadata": {},
   "outputs": [
    {
     "data": {
      "text/plain": [
       "Index(['origin', 'destination', 'gtime', 'path', 'pathfinder_session',\n",
       "       'reversed', 'boardings', 'alightings', 'node_path', 'link_path',\n",
       "       'footpaths', 'ntlegs', 'transfers', 'boarding_links', 'alighting_links',\n",
       "       'all_walk', 'ntransfers', 'time_link_path', 'length_link_path'],\n",
       "      dtype='object')"
      ]
     },
     "execution_count": 378,
     "metadata": {},
     "output_type": "execute_result"
    }
   ],
   "source": [
    "sm.pt_los.columns"
   ]
  },
  {
   "cell_type": "code",
   "execution_count": 379,
   "metadata": {},
   "outputs": [
    {
     "data": {
      "text/plain": [
       "array(['bus'], dtype=object)"
      ]
     },
     "execution_count": 379,
     "metadata": {},
     "output_type": "execute_result"
    }
   ],
   "source": [
    "sm.links['route_type'].unique()"
   ]
  },
  {
   "cell_type": "code",
   "execution_count": 380,
   "metadata": {},
   "outputs": [],
   "source": [
    "# Add route types to the paths\n",
    "# The mode that appears first in the hierarchy is assigned as\n",
    "# main mode, if there is more than one route_type used on the path\n",
    "hierarchy = ['rail', 'subway', 'funicular', 'tram', 'bus', 'cycle', 'walk']\n",
    "sm.analysis_pt_route_type(hierarchy)"
   ]
  },
  {
   "cell_type": "code",
   "execution_count": 381,
   "metadata": {},
   "outputs": [
    {
     "data": {
      "text/plain": [
       "array([[<AxesSubplot:title={'center':'ntransfers'}>]], dtype=object)"
      ]
     },
     "execution_count": 381,
     "metadata": {},
     "output_type": "execute_result"
    },
    {
     "data": {
      "image/png": "[encoded data removed]",
      "text/plain": [
       "<Figure size 216x216 with 1 Axes>"
      ]
     },
     "metadata": {
      "needs_background": "light"
     },
     "output_type": "display_data"
    }
   ],
   "source": [
    "# How many transfers do we have?\n",
    "sm.pt_los.hist(column='ntransfers', bins=6, figsize=(3,3))"
   ]
  },
  {
   "cell_type": "code",
   "execution_count": 382,
   "metadata": {},
   "outputs": [
    {
     "data": {
      "text/plain": [
       "<AxesSubplot:xlabel='route_types'>"
      ]
     },
     "execution_count": 382,
     "metadata": {},
     "output_type": "execute_result"
    },
    {
     "data": {
      "image/png": "[encoded data removed]",
      "text/plain": [
       "<Figure size 432x288 with 1 Axes>"
      ]
     },
     "metadata": {
      "needs_background": "light"
     },
     "output_type": "display_data"
    }
   ],
   "source": [
    "# How many connections do we have per mode combination in the shortest paths?\n",
    "sm.pt_los['route_types'] = sm.pt_los['route_types'].apply(tuple) # bugfix\n",
    "sm.pt_los.groupby('route_types').count()['route_type'].plot(kind='bar')"
   ]
  },
  {
   "cell_type": "code",
   "execution_count": 383,
   "metadata": {},
   "outputs": [
    {
     "name": "stderr",
     "output_type": "stream",
     "text": [
      "breaking modes: set() : 100%|█████████████████████| 2/2 [00:00<00:00, 24.88it/s]\n",
      "path_analysis: 100%|███████████████████████| 209/209 [00:00<00:00, 63836.99it/s]\n"
     ]
    }
   ],
   "source": [
    "# Now, let's look at the results when we disaggregate paths by route_type\n",
    "sm.step_pt_pathfinder(broken_modes=True, broken_routes=False, walk_on_road=False)"
   ]
  },
  {
   "cell_type": "code",
   "execution_count": 384,
   "metadata": {},
   "outputs": [
    {
     "data": {
      "text/plain": [
       "209"
      ]
     },
     "execution_count": 384,
     "metadata": {},
     "output_type": "execute_result"
    }
   ],
   "source": [
    "# How many paths do we have now compared to 12,100,208,210 before?\n",
    "len(sm.pt_los)"
   ]
  },
  {
   "cell_type": "code",
   "execution_count": 385,
   "metadata": {},
   "outputs": [
    {
     "data": {
      "text/html": [
       "<div>\n",
       "<style scoped>\n",
       "    .dataframe tbody tr th:only-of-type {\n",
       "        vertical-align: middle;\n",
       "    }\n",
       "\n",
       "    .dataframe tbody tr th {\n",
       "        vertical-align: top;\n",
       "    }\n",
       "\n",
       "    .dataframe thead th {\n",
       "        text-align: right;\n",
       "    }\n",
       "</style>\n",
       "<table border=\"1\" class=\"dataframe\">\n",
       "  <thead>\n",
       "    <tr style=\"text-align: right;\">\n",
       "      <th></th>\n",
       "      <th>origin</th>\n",
       "      <th>destination</th>\n",
       "      <th>gtime</th>\n",
       "      <th>path</th>\n",
       "      <th>reversed</th>\n",
       "      <th>pathfinder_session</th>\n",
       "      <th>broken_modes</th>\n",
       "      <th>boardings</th>\n",
       "      <th>alightings</th>\n",
       "      <th>node_path</th>\n",
       "      <th>...</th>\n",
       "      <th>ntlegs</th>\n",
       "      <th>transfers</th>\n",
       "      <th>boarding_links</th>\n",
       "      <th>alighting_links</th>\n",
       "      <th>all_walk</th>\n",
       "      <th>ntransfers</th>\n",
       "      <th>time_link_path</th>\n",
       "      <th>length_link_path</th>\n",
       "      <th>route_types</th>\n",
       "      <th>route_type</th>\n",
       "    </tr>\n",
       "  </thead>\n",
       "  <tbody>\n",
       "    <tr>\n",
       "      <th>57</th>\n",
       "      <td>zone_4</td>\n",
       "      <td>zone_10</td>\n",
       "      <td>3307.720272</td>\n",
       "      <td>(zone_4, n_52, n_50, n_246, n_190, n_231, n_38...</td>\n",
       "      <td>False</td>\n",
       "      <td>mode_breaker</td>\n",
       "      <td>{bus}</td>\n",
       "      <td>[]</td>\n",
       "      <td>[]</td>\n",
       "      <td>[n_52, n_50, n_246, n_190, n_231, n_38, n_79]</td>\n",
       "      <td>...</td>\n",
       "      <td>[(zone_4, n_52), (n_79, zone_10)]</td>\n",
       "      <td>[]</td>\n",
       "      <td>[]</td>\n",
       "      <td>[]</td>\n",
       "      <td>True</td>\n",
       "      <td>0</td>\n",
       "      <td>0.0</td>\n",
       "      <td>0.0</td>\n",
       "      <td>()</td>\n",
       "      <td>walk</td>\n",
       "    </tr>\n",
       "  </tbody>\n",
       "</table>\n",
       "<p>1 rows × 22 columns</p>\n",
       "</div>"
      ],
      "text/plain": [
       "    origin destination        gtime  \\\n",
       "57  zone_4     zone_10  3307.720272   \n",
       "\n",
       "                                                 path  reversed  \\\n",
       "57  (zone_4, n_52, n_50, n_246, n_190, n_231, n_38...     False   \n",
       "\n",
       "   pathfinder_session broken_modes boardings alightings  \\\n",
       "57       mode_breaker        {bus}        []         []   \n",
       "\n",
       "                                        node_path  ...  \\\n",
       "57  [n_52, n_50, n_246, n_190, n_231, n_38, n_79]  ...   \n",
       "\n",
       "                               ntlegs transfers boarding_links  \\\n",
       "57  [(zone_4, n_52), (n_79, zone_10)]        []             []   \n",
       "\n",
       "   alighting_links all_walk ntransfers  time_link_path  length_link_path  \\\n",
       "57              []     True          0             0.0               0.0   \n",
       "\n",
       "    route_types  route_type  \n",
       "57           ()        walk  \n",
       "\n",
       "[1 rows x 22 columns]"
      ]
     },
     "execution_count": 385,
     "metadata": {},
     "output_type": "execute_result"
    }
   ],
   "source": [
    "sm.analysis_pt_route_type(hierarchy)\n",
    "sm.pt_los.sample()"
   ]
  },
  {
   "cell_type": "code",
   "execution_count": 386,
   "metadata": {},
   "outputs": [
    {
     "data": {
      "text/plain": [
       "<AxesSubplot:xlabel='route_types'>"
      ]
     },
     "execution_count": 386,
     "metadata": {},
     "output_type": "execute_result"
    },
    {
     "data": {
      "image/png": "[encoded data removed]",
      "text/plain": [
       "<Figure size 432x288 with 1 Axes>"
      ]
     },
     "metadata": {
      "needs_background": "light"
     },
     "output_type": "display_data"
    }
   ],
   "source": [
    "sm.pt_los['route_types'] = sm.pt_los['route_types'].apply(tuple) # bugfix\n",
    "sm.pt_los.groupby('route_types').count()['route_type'].plot(kind='bar')"
   ]
  },
  {
   "cell_type": "code",
   "execution_count": 387,
   "metadata": {},
   "outputs": [],
   "source": [
    "# Compute time attribute (from link path and footpaths and access links)\n",
    "sm.analysis_pt_time()"
   ]
  },
  {
   "cell_type": "code",
   "execution_count": 388,
   "metadata": {},
   "outputs": [
    {
     "data": {
      "text/html": [
       "<div>\n",
       "<style scoped>\n",
       "    .dataframe tbody tr th:only-of-type {\n",
       "        vertical-align: middle;\n",
       "    }\n",
       "\n",
       "    .dataframe tbody tr th {\n",
       "        vertical-align: top;\n",
       "    }\n",
       "\n",
       "    .dataframe thead th {\n",
       "        text-align: right;\n",
       "    }\n",
       "</style>\n",
       "<table border=\"1\" class=\"dataframe\">\n",
       "  <thead>\n",
       "    <tr style=\"text-align: right;\">\n",
       "      <th></th>\n",
       "      <th>route_types</th>\n",
       "      <th>time</th>\n",
       "      <th>ntransfers</th>\n",
       "    </tr>\n",
       "  </thead>\n",
       "  <tbody>\n",
       "    <tr>\n",
       "      <th>46</th>\n",
       "      <td>()</td>\n",
       "      <td>4793.212591</td>\n",
       "      <td>0</td>\n",
       "    </tr>\n",
       "    <tr>\n",
       "      <th>46</th>\n",
       "      <td>(bus,)</td>\n",
       "      <td>2729.867412</td>\n",
       "      <td>0</td>\n",
       "    </tr>\n",
       "  </tbody>\n",
       "</table>\n",
       "</div>"
      ],
      "text/plain": [
       "   route_types         time  ntransfers\n",
       "46          ()  4793.212591           0\n",
       "46      (bus,)  2729.867412           0"
      ]
     },
     "execution_count": 388,
     "metadata": {},
     "output_type": "execute_result"
    }
   ],
   "source": [
    "# Closer look at one OD pair\n",
    "sm.pt_los.loc[(sm.pt_los['origin']=='zone_3') & (sm.pt_los['destination']=='zone_10')][\n",
    "    ['route_types', 'time', 'ntransfers']]"
   ]
  },
  {
   "cell_type": "code",
   "execution_count": 389,
   "metadata": {},
   "outputs": [
    {
     "name": "stderr",
     "output_type": "stream",
     "text": [
      "Reprojecting model from epsg 4326 to epsg 3857: 100%|█| 47/47 [00:06<00:00,  7.5\n",
      "100%|█████████████████████████████████████████████| 2/2 [00:00<00:00,  2.61it/s]\n"
     ]
    },
    {
     "data": {
      "image/png": "[encoded data removed]",
      "text/plain": [
       "<Figure size 1095.23x667.753 with 2 Axes>"
      ]
     },
     "metadata": {},
     "output_type": "display_data"
    }
   ],
   "source": [
    "# Plot\n",
    "plot = sm.change_epsg(3857, coordinates_unit=sm.coordinates_unit)\n",
    "#plot.links['color'] = '#' + plot.links['route_color']\n",
    " \n",
    "fig, axes = plot.plot_separated_paths(\n",
    "    'zone_3','zone_10', rows=1, figsize=[16, 16],\n",
    "    title=None, constrained_layout=True, zoom=13, resize=True,\n",
    "    basemap_url='http://a.basemaps.cartocdn.com/light_nolabels/tileZ/tileX/tileY.png', \n",
    ")"
   ]
  },
  {
   "cell_type": "code",
   "execution_count": 390,
   "metadata": {},
   "outputs": [],
   "source": [
    "# Assign a length to LoS table\n",
    "sm.analysis_pt_length()"
   ]
  },
  {
   "cell_type": "code",
   "execution_count": 391,
   "metadata": {},
   "outputs": [
    {
     "data": {
      "text/plain": [
       "<AxesSubplot:>"
      ]
     },
     "execution_count": 391,
     "metadata": {},
     "output_type": "execute_result"
    },
    {
     "data": {
      "image/png": "[encoded data removed]",
      "text/plain": [
       "<Figure size 216x216 with 1 Axes>"
      ]
     },
     "metadata": {
      "needs_background": "light"
     },
     "output_type": "display_data"
    }
   ],
   "source": [
    "# Length distribution\n",
    "sm.pt_los['length'].hist(bins=20, figsize=(3,3))"
   ]
  },
  {
   "cell_type": "code",
   "execution_count": 392,
   "metadata": {},
   "outputs": [
    {
     "ename": "ValueError",
     "evalue": "The truth value of a Series is ambiguous. Use a.empty, a.bool(), a.item(), a.any() or a.all().",
     "output_type": "error",
     "traceback": [
      "\u001b[0;31m---------------------------------------------------------------------------\u001b[0m",
      "\u001b[0;31mValueError\u001b[0m                                Traceback (most recent call last)",
      "\u001b[0;32m/var/folders/q3/1xjnpfzs7cxc9s8s19ll5cbw0000gn/T/ipykernel_87518/4158024888.py\u001b[0m in \u001b[0;36m<module>\u001b[0;34m\u001b[0m\n\u001b[1;32m      5\u001b[0m ax = sm.pt_los.loc[mask].plot(\n\u001b[1;32m      6\u001b[0m     kind='scatter', x='length', y='time', figsize=[5, 5], s=1, c=color_list)\n\u001b[0;32m----> 7\u001b[0;31m \u001b[0max\u001b[0m\u001b[0;34m.\u001b[0m\u001b[0mlegend\u001b[0m\u001b[0;34m(\u001b[0m\u001b[0mhandles\u001b[0m\u001b[0;34m=\u001b[0m\u001b[0mcolor_list\u001b[0m\u001b[0;34m,\u001b[0m \u001b[0mlabels\u001b[0m\u001b[0;34m=\u001b[0m\u001b[0msm\u001b[0m\u001b[0;34m.\u001b[0m\u001b[0mpt_los\u001b[0m\u001b[0;34m.\u001b[0m\u001b[0mloc\u001b[0m\u001b[0;34m[\u001b[0m\u001b[0mmask\u001b[0m\u001b[0;34m,\u001b[0m \u001b[0;34m'route_type'\u001b[0m\u001b[0;34m]\u001b[0m\u001b[0;34m)\u001b[0m\u001b[0;34m\u001b[0m\u001b[0;34m\u001b[0m\u001b[0m\n\u001b[0m",
      "\u001b[0;32m/opt/anaconda3/envs/quetzal_env/lib/python3.8/site-packages/matplotlib/axes/_axes.py\u001b[0m in \u001b[0;36mlegend\u001b[0;34m(self, *args, **kwargs)\u001b[0m\n\u001b[1;32m    297\u001b[0m         \u001b[0;34m.\u001b[0m\u001b[0;34m.\u001b[0m \u001b[0mplot\u001b[0m\u001b[0;34m:\u001b[0m\u001b[0;34m:\u001b[0m \u001b[0mgallery\u001b[0m\u001b[0;34m/\u001b[0m\u001b[0mtext_labels_and_annotations\u001b[0m\u001b[0;34m/\u001b[0m\u001b[0mlegend\u001b[0m\u001b[0;34m.\u001b[0m\u001b[0mpy\u001b[0m\u001b[0;34m\u001b[0m\u001b[0;34m\u001b[0m\u001b[0m\n\u001b[1;32m    298\u001b[0m         \"\"\"\n\u001b[0;32m--> 299\u001b[0;31m         handles, labels, extra_args, kwargs = mlegend._parse_legend_args(\n\u001b[0m\u001b[1;32m    300\u001b[0m                 \u001b[0;34m[\u001b[0m\u001b[0mself\u001b[0m\u001b[0;34m]\u001b[0m\u001b[0;34m,\u001b[0m\u001b[0;34m\u001b[0m\u001b[0;34m\u001b[0m\u001b[0m\n\u001b[1;32m    301\u001b[0m                 \u001b[0;34m*\u001b[0m\u001b[0margs\u001b[0m\u001b[0;34m,\u001b[0m\u001b[0;34m\u001b[0m\u001b[0;34m\u001b[0m\u001b[0m\n",
      "\u001b[0;32m/opt/anaconda3/envs/quetzal_env/lib/python3.8/site-packages/matplotlib/legend.py\u001b[0m in \u001b[0;36m_parse_legend_args\u001b[0;34m(axs, handles, labels, *args, **kwargs)\u001b[0m\n\u001b[1;32m   1200\u001b[0m \u001b[0;34m\u001b[0m\u001b[0m\n\u001b[1;32m   1201\u001b[0m     \u001b[0;31m# if got both handles and labels as kwargs, make same length\u001b[0m\u001b[0;34m\u001b[0m\u001b[0;34m\u001b[0m\u001b[0;34m\u001b[0m\u001b[0m\n\u001b[0;32m-> 1202\u001b[0;31m     \u001b[0;32mif\u001b[0m \u001b[0mhandles\u001b[0m \u001b[0;32mand\u001b[0m \u001b[0mlabels\u001b[0m\u001b[0;34m:\u001b[0m\u001b[0;34m\u001b[0m\u001b[0;34m\u001b[0m\u001b[0m\n\u001b[0m\u001b[1;32m   1203\u001b[0m         \u001b[0mhandles\u001b[0m\u001b[0;34m,\u001b[0m \u001b[0mlabels\u001b[0m \u001b[0;34m=\u001b[0m \u001b[0mzip\u001b[0m\u001b[0;34m(\u001b[0m\u001b[0;34m*\u001b[0m\u001b[0mzip\u001b[0m\u001b[0;34m(\u001b[0m\u001b[0mhandles\u001b[0m\u001b[0;34m,\u001b[0m \u001b[0mlabels\u001b[0m\u001b[0;34m)\u001b[0m\u001b[0;34m)\u001b[0m\u001b[0;34m\u001b[0m\u001b[0;34m\u001b[0m\u001b[0m\n\u001b[1;32m   1204\u001b[0m \u001b[0;34m\u001b[0m\u001b[0m\n",
      "\u001b[0;32m/opt/anaconda3/envs/quetzal_env/lib/python3.8/site-packages/pandas/core/generic.py\u001b[0m in \u001b[0;36m__nonzero__\u001b[0;34m(self)\u001b[0m\n\u001b[1;32m   1440\u001b[0m     \u001b[0;34m@\u001b[0m\u001b[0mfinal\u001b[0m\u001b[0;34m\u001b[0m\u001b[0;34m\u001b[0m\u001b[0m\n\u001b[1;32m   1441\u001b[0m     \u001b[0;32mdef\u001b[0m \u001b[0m__nonzero__\u001b[0m\u001b[0;34m(\u001b[0m\u001b[0mself\u001b[0m\u001b[0;34m)\u001b[0m\u001b[0;34m:\u001b[0m\u001b[0;34m\u001b[0m\u001b[0;34m\u001b[0m\u001b[0m\n\u001b[0;32m-> 1442\u001b[0;31m         raise ValueError(\n\u001b[0m\u001b[1;32m   1443\u001b[0m             \u001b[0;34mf\"The truth value of a {type(self).__name__} is ambiguous. \"\u001b[0m\u001b[0;34m\u001b[0m\u001b[0;34m\u001b[0m\u001b[0m\n\u001b[1;32m   1444\u001b[0m             \u001b[0;34m\"Use a.empty, a.bool(), a.item(), a.any() or a.all().\"\u001b[0m\u001b[0;34m\u001b[0m\u001b[0;34m\u001b[0m\u001b[0m\n",
      "\u001b[0;31mValueError\u001b[0m: The truth value of a Series is ambiguous. Use a.empty, a.bool(), a.item(), a.any() or a.all()."
     ]
    },
    {
     "data": {
      "image/png": "[encoded data removed]",
      "text/plain": [
       "<Figure size 360x360 with 1 Axes>"
      ]
     },
     "metadata": {
      "needs_background": "light"
     },
     "output_type": "display_data"
    }
   ],
   "source": [
    "# Dependency between distance and time\n",
    "mask = sm.pt_los['origin']!=sm.pt_los['destination'] # Filter statement\n",
    "color_dict = {'bus': '#129eac', 'subway': '#0e5899', 'tram': '#5ea8e8', 'rail': '#1F85DE', 'walk': '#adb3b4'}\n",
    "color_list = [color_dict[t] for t in sm.pt_los.loc[mask, 'route_type']]\n",
    "ax = sm.pt_los.loc[mask].plot(\n",
    "    kind='scatter', x='length', y='time', figsize=[5, 5], s=1, c=color_list)\n",
    "ax.legend(handles=color_list, labels=sm.pt_los.loc[mask, 'route_type'])"
   ]
  },
  {
   "cell_type": "code",
   "execution_count": 394,
   "metadata": {},
   "outputs": [
    {
     "data": {
      "text/html": [
       "<div style=\"width:100%;\"><div style=\"position:relative;width:100%;height:0;padding-bottom:60%;\"><span style=\"color:#565656\">Make this Notebook Trusted to load map: File -> Trust Notebook</span><iframe src=\"about:blank\" style=\"position:absolute;width:100%;height:100%;left:0;top:0;border:none !important;\" data-html=%3C%21DOCTYPE%20html%3E%0A%3Chead%3E%20%20%20%20%0A%20%20%20%20%3Cmeta%20http-equiv%3D%22content-type%22%20content%3D%22text/html%3B%20charset%3DUTF-8%22%20/%3E%0A%20%20%20%20%0A%20%20%20%20%20%20%20%20%3Cscript%3E%0A%20%20%20%20%20%20%20%20%20%20%20%20L_NO_TOUCH%20%3D%20false%3B%0A%20%20%20%20%20%20%20%20%20%20%20%20L_DISABLE_3D%20%3D%20false%3B%0A%20%20%20%20%20%20%20%20%3C/script%3E%0A%20%20%20%20%0A%20%20%20%20%3Cstyle%3Ehtml%2C%20body%20%7Bwidth%3A%20100%25%3Bheight%3A%20100%25%3Bmargin%3A%200%3Bpadding%3A%200%3B%7D%3C/style%3E%0A%20%20%20%20%3Cstyle%3E%23map%20%7Bposition%3Aabsolute%3Btop%3A0%3Bbottom%3A0%3Bright%3A0%3Bleft%3A0%3B%7D%3C/style%3E%0A%20%20%20%20%3Cscript%20src%3D%22https%3A//cdn.jsdelivr.net/npm/leaflet%401.6.0/dist/leaflet.js%22%3E%3C/script%3E%0A%20%20%20%20%3Cscript%20src%3D%22https%3A//code.jquery.com/jquery-1.12.4.min.js%22%3E%3C/script%3E%0A%20%20%20%20%3Cscript%20src%3D%22https%3A//maxcdn.bootstrapcdn.com/bootstrap/3.2.0/js/bootstrap.min.js%22%3E%3C/script%3E%0A%20%20%20%20%3Cscript%20src%3D%22https%3A//cdnjs.cloudflare.com/ajax/libs/Leaflet.awesome-markers/2.0.2/leaflet.awesome-markers.js%22%3E%3C/script%3E%0A%20%20%20%20%3Clink%20rel%3D%22stylesheet%22%20href%3D%22https%3A//cdn.jsdelivr.net/npm/leaflet%401.6.0/dist/leaflet.css%22/%3E%0A%20%20%20%20%3Clink%20rel%3D%22stylesheet%22%20href%3D%22https%3A//maxcdn.bootstrapcdn.com/bootstrap/3.2.0/css/bootstrap.min.css%22/%3E%0A%20%20%20%20%3Clink%20rel%3D%22stylesheet%22%20href%3D%22https%3A//maxcdn.bootstrapcdn.com/bootstrap/3.2.0/css/bootstrap-theme.min.css%22/%3E%0A%20%20%20%20%3Clink%20rel%3D%22stylesheet%22%20href%3D%22https%3A//maxcdn.bootstrapcdn.com/font-awesome/4.6.3/css/font-awesome.min.css%22/%3E%0A%20%20%20%20%3Clink%20rel%3D%22stylesheet%22%20href%3D%22https%3A//cdnjs.cloudflare.com/ajax/libs/Leaflet.awesome-markers/2.0.2/leaflet.awesome-markers.css%22/%3E%0A%20%20%20%20%3Clink%20rel%3D%22stylesheet%22%20href%3D%22https%3A//cdn.jsdelivr.net/gh/python-visualization/folium/folium/templates/leaflet.awesome.rotate.min.css%22/%3E%0A%20%20%20%20%0A%20%20%20%20%20%20%20%20%20%20%20%20%3Cmeta%20name%3D%22viewport%22%20content%3D%22width%3Ddevice-width%2C%0A%20%20%20%20%20%20%20%20%20%20%20%20%20%20%20%20initial-scale%3D1.0%2C%20maximum-scale%3D1.0%2C%20user-scalable%3Dno%22%20/%3E%0A%20%20%20%20%20%20%20%20%20%20%20%20%3Cstyle%3E%0A%20%20%20%20%20%20%20%20%20%20%20%20%20%20%20%20%23map_f7e2f4bff8c94774bc318bd9f4730f99%20%7B%0A%20%20%20%20%20%20%20%20%20%20%20%20%20%20%20%20%20%20%20%20position%3A%20relative%3B%0A%20%20%20%20%20%20%20%20%20%20%20%20%20%20%20%20%20%20%20%20width%3A%20100.0%25%3B%0A%20%20%20%20%20%20%20%20%20%20%20%20%20%20%20%20%20%20%20%20height%3A%20100.0%25%3B%0A%20%20%20%20%20%20%20%20%20%20%20%20%20%20%20%20%20%20%20%20left%3A%200.0%25%3B%0A%20%20%20%20%20%20%20%20%20%20%20%20%20%20%20%20%20%20%20%20top%3A%200.0%25%3B%0A%20%20%20%20%20%20%20%20%20%20%20%20%20%20%20%20%7D%0A%20%20%20%20%20%20%20%20%20%20%20%20%3C/style%3E%0A%20%20%20%20%20%20%20%20%0A%3C/head%3E%0A%3Cbody%3E%20%20%20%20%0A%20%20%20%20%0A%20%20%20%20%20%20%20%20%20%20%20%20%3Cdiv%20class%3D%22folium-map%22%20id%3D%22map_f7e2f4bff8c94774bc318bd9f4730f99%22%20%3E%3C/div%3E%0A%20%20%20%20%20%20%20%20%0A%3C/body%3E%0A%3Cscript%3E%20%20%20%20%0A%20%20%20%20%0A%20%20%20%20%20%20%20%20%20%20%20%20var%20map_f7e2f4bff8c94774bc318bd9f4730f99%20%3D%20L.map%28%0A%20%20%20%20%20%20%20%20%20%20%20%20%20%20%20%20%22map_f7e2f4bff8c94774bc318bd9f4730f99%22%2C%0A%20%20%20%20%20%20%20%20%20%20%20%20%20%20%20%20%7B%0A%20%20%20%20%20%20%20%20%20%20%20%20%20%20%20%20%20%20%20%20center%3A%20%5B54.800108157924896%2C%209.424896049490677%5D%2C%0A%20%20%20%20%20%20%20%20%20%20%20%20%20%20%20%20%20%20%20%20crs%3A%20L.CRS.EPSG3857%2C%0A%20%20%20%20%20%20%20%20%20%20%20%20%20%20%20%20%20%20%20%20zoom%3A%2013%2C%0A%20%20%20%20%20%20%20%20%20%20%20%20%20%20%20%20%20%20%20%20zoomControl%3A%20true%2C%0A%20%20%20%20%20%20%20%20%20%20%20%20%20%20%20%20%20%20%20%20preferCanvas%3A%20false%2C%0A%20%20%20%20%20%20%20%20%20%20%20%20%20%20%20%20%7D%0A%20%20%20%20%20%20%20%20%20%20%20%20%29%3B%0A%0A%20%20%20%20%20%20%20%20%20%20%20%20%0A%0A%20%20%20%20%20%20%20%20%0A%20%20%20%20%0A%20%20%20%20%20%20%20%20%20%20%20%20var%20tile_layer_32136b3b8e894a82a6eab6aba4d640f3%20%3D%20L.tileLayer%28%0A%20%20%20%20%20%20%20%20%20%20%20%20%20%20%20%20%22https%3A//%7Bs%7D.tile.openstreetmap.org/%7Bz%7D/%7Bx%7D/%7By%7D.png%22%2C%0A%20%20%20%20%20%20%20%20%20%20%20%20%20%20%20%20%7B%22attribution%22%3A%20%22Data%20by%20%5Cu0026copy%3B%20%5Cu003ca%20href%3D%5C%22http%3A//openstreetmap.org%5C%22%5Cu003eOpenStreetMap%5Cu003c/a%5Cu003e%2C%20under%20%5Cu003ca%20href%3D%5C%22http%3A//www.openstreetmap.org/copyright%5C%22%5Cu003eODbL%5Cu003c/a%5Cu003e.%22%2C%20%22detectRetina%22%3A%20false%2C%20%22maxNativeZoom%22%3A%2018%2C%20%22maxZoom%22%3A%2018%2C%20%22minZoom%22%3A%200%2C%20%22noWrap%22%3A%20false%2C%20%22opacity%22%3A%201%2C%20%22subdomains%22%3A%20%22abc%22%2C%20%22tms%22%3A%20false%7D%0A%20%20%20%20%20%20%20%20%20%20%20%20%29.addTo%28map_f7e2f4bff8c94774bc318bd9f4730f99%29%3B%0A%20%20%20%20%20%20%20%20%0A%20%20%20%20%0A%20%20%20%20%20%20%20%20%20%20%20%20var%20poly_line_34636b6da5414069a5c7bb7f1be6f66f%20%3D%20L.polyline%28%0A%20%20%20%20%20%20%20%20%20%20%20%20%20%20%20%20%5B%5B54.807987%2C%209.4191155%5D%2C%20%5B54.806282%2C%209.423018%5D%5D%2C%0A%20%20%20%20%20%20%20%20%20%20%20%20%20%20%20%20%7B%22bubblingMouseEvents%22%3A%20true%2C%20%22color%22%3A%20%22gray%22%2C%20%22dashArray%22%3A%20null%2C%20%22dashOffset%22%3A%20null%2C%20%22fill%22%3A%20false%2C%20%22fillColor%22%3A%20%22gray%22%2C%20%22fillOpacity%22%3A%200.2%2C%20%22fillRule%22%3A%20%22evenodd%22%2C%20%22lineCap%22%3A%20%22round%22%2C%20%22lineJoin%22%3A%20%22round%22%2C%20%22noClip%22%3A%20false%2C%20%22opacity%22%3A%201.0%2C%20%22smoothFactor%22%3A%201.0%2C%20%22stroke%22%3A%20true%2C%20%22weight%22%3A%203%7D%0A%20%20%20%20%20%20%20%20%20%20%20%20%29.addTo%28map_f7e2f4bff8c94774bc318bd9f4730f99%29%3B%0A%20%20%20%20%20%20%20%20%0A%20%20%20%20%0A%20%20%20%20%20%20%20%20%20%20%20%20var%20poly_line_441147cd5ecf4e6487f3fe11fbaff8cb%20%3D%20L.polyline%28%0A%20%20%20%20%20%20%20%20%20%20%20%20%20%20%20%20%5B%5B54.805695%2C%209.423448%5D%2C%20%5B54.806282%2C%209.423018%5D%5D%2C%0A%20%20%20%20%20%20%20%20%20%20%20%20%20%20%20%20%7B%22bubblingMouseEvents%22%3A%20true%2C%20%22color%22%3A%20%22gray%22%2C%20%22dashArray%22%3A%20null%2C%20%22dashOffset%22%3A%20null%2C%20%22fill%22%3A%20false%2C%20%22fillColor%22%3A%20%22gray%22%2C%20%22fillOpacity%22%3A%200.2%2C%20%22fillRule%22%3A%20%22evenodd%22%2C%20%22lineCap%22%3A%20%22round%22%2C%20%22lineJoin%22%3A%20%22round%22%2C%20%22noClip%22%3A%20false%2C%20%22opacity%22%3A%201.0%2C%20%22smoothFactor%22%3A%201.0%2C%20%22stroke%22%3A%20true%2C%20%22weight%22%3A%203%7D%0A%20%20%20%20%20%20%20%20%20%20%20%20%29.addTo%28map_f7e2f4bff8c94774bc318bd9f4730f99%29%3B%0A%20%20%20%20%20%20%20%20%0A%20%20%20%20%0A%20%20%20%20%20%20%20%20%20%20%20%20var%20poly_line_0e1e24abe5854d939d6d73284d703a82%20%3D%20L.polyline%28%0A%20%20%20%20%20%20%20%20%20%20%20%20%20%20%20%20%5B%5B54.805695%2C%209.423448%5D%2C%20%5B54.80294%2C%209.42471%5D%5D%2C%0A%20%20%20%20%20%20%20%20%20%20%20%20%20%20%20%20%7B%22bubblingMouseEvents%22%3A%20true%2C%20%22color%22%3A%20%22gray%22%2C%20%22dashArray%22%3A%20null%2C%20%22dashOffset%22%3A%20null%2C%20%22fill%22%3A%20false%2C%20%22fillColor%22%3A%20%22gray%22%2C%20%22fillOpacity%22%3A%200.2%2C%20%22fillRule%22%3A%20%22evenodd%22%2C%20%22lineCap%22%3A%20%22round%22%2C%20%22lineJoin%22%3A%20%22round%22%2C%20%22noClip%22%3A%20false%2C%20%22opacity%22%3A%201.0%2C%20%22smoothFactor%22%3A%201.0%2C%20%22stroke%22%3A%20true%2C%20%22weight%22%3A%203%7D%0A%20%20%20%20%20%20%20%20%20%20%20%20%29.addTo%28map_f7e2f4bff8c94774bc318bd9f4730f99%29%3B%0A%20%20%20%20%20%20%20%20%0A%20%20%20%20%0A%20%20%20%20%20%20%20%20%20%20%20%20var%20poly_line_a27b8ea88f4b41e391a37411b8c1e989%20%3D%20L.polyline%28%0A%20%20%20%20%20%20%20%20%20%20%20%20%20%20%20%20%5B%5B54.79919%2C%209.42534%5D%2C%20%5B54.80294%2C%209.42471%5D%5D%2C%0A%20%20%20%20%20%20%20%20%20%20%20%20%20%20%20%20%7B%22bubblingMouseEvents%22%3A%20true%2C%20%22color%22%3A%20%22gray%22%2C%20%22dashArray%22%3A%20null%2C%20%22dashOffset%22%3A%20null%2C%20%22fill%22%3A%20false%2C%20%22fillColor%22%3A%20%22gray%22%2C%20%22fillOpacity%22%3A%200.2%2C%20%22fillRule%22%3A%20%22evenodd%22%2C%20%22lineCap%22%3A%20%22round%22%2C%20%22lineJoin%22%3A%20%22round%22%2C%20%22noClip%22%3A%20false%2C%20%22opacity%22%3A%201.0%2C%20%22smoothFactor%22%3A%201.0%2C%20%22stroke%22%3A%20true%2C%20%22weight%22%3A%203%7D%0A%20%20%20%20%20%20%20%20%20%20%20%20%29.addTo%28map_f7e2f4bff8c94774bc318bd9f4730f99%29%3B%0A%20%20%20%20%20%20%20%20%0A%20%20%20%20%0A%20%20%20%20%20%20%20%20%20%20%20%20var%20poly_line_2edb3d3576124a03acd3e530dd76edc9%20%3D%20L.polyline%28%0A%20%20%20%20%20%20%20%20%20%20%20%20%20%20%20%20%5B%5B54.79919%2C%209.42534%5D%2C%20%5B54.7969785%2C%209.427642%5D%5D%2C%0A%20%20%20%20%20%20%20%20%20%20%20%20%20%20%20%20%7B%22bubblingMouseEvents%22%3A%20true%2C%20%22color%22%3A%20%22gray%22%2C%20%22dashArray%22%3A%20null%2C%20%22dashOffset%22%3A%20null%2C%20%22fill%22%3A%20false%2C%20%22fillColor%22%3A%20%22gray%22%2C%20%22fillOpacity%22%3A%200.2%2C%20%22fillRule%22%3A%20%22evenodd%22%2C%20%22lineCap%22%3A%20%22round%22%2C%20%22lineJoin%22%3A%20%22round%22%2C%20%22noClip%22%3A%20false%2C%20%22opacity%22%3A%201.0%2C%20%22smoothFactor%22%3A%201.0%2C%20%22stroke%22%3A%20true%2C%20%22weight%22%3A%203%7D%0A%20%20%20%20%20%20%20%20%20%20%20%20%29.addTo%28map_f7e2f4bff8c94774bc318bd9f4730f99%29%3B%0A%20%20%20%20%20%20%20%20%0A%20%20%20%20%0A%20%20%20%20%20%20%20%20%20%20%20%20var%20poly_line_191e249aaee544bbb0d2f8b34ddb457f%20%3D%20L.polyline%28%0A%20%20%20%20%20%20%20%20%20%20%20%20%20%20%20%20%5B%5B54.7969785%2C%209.427642%5D%2C%20%5B54.790775%2C%209.428922%5D%5D%2C%0A%20%20%20%20%20%20%20%20%20%20%20%20%20%20%20%20%7B%22bubblingMouseEvents%22%3A%20true%2C%20%22color%22%3A%20%22gray%22%2C%20%22dashArray%22%3A%20null%2C%20%22dashOffset%22%3A%20null%2C%20%22fill%22%3A%20false%2C%20%22fillColor%22%3A%20%22gray%22%2C%20%22fillOpacity%22%3A%200.2%2C%20%22fillRule%22%3A%20%22evenodd%22%2C%20%22lineCap%22%3A%20%22round%22%2C%20%22lineJoin%22%3A%20%22round%22%2C%20%22noClip%22%3A%20false%2C%20%22opacity%22%3A%201.0%2C%20%22smoothFactor%22%3A%201.0%2C%20%22stroke%22%3A%20true%2C%20%22weight%22%3A%203%7D%0A%20%20%20%20%20%20%20%20%20%20%20%20%29.addTo%28map_f7e2f4bff8c94774bc318bd9f4730f99%29%3B%0A%20%20%20%20%20%20%20%20%0A%20%20%20%20%0A%20%20%20%20%20%20%20%20%20%20%20%20var%20poly_line_e360c16e5ae3485889a9414ed2016c8b%20%3D%20L.polyline%28%0A%20%20%20%20%20%20%20%20%20%20%20%20%20%20%20%20%5B%5B54.809335398018234%2C%209.419122892448454%5D%2C%20%5B54.807987%2C%209.4191155%5D%5D%2C%0A%20%20%20%20%20%20%20%20%20%20%20%20%20%20%20%20%7B%22bubblingMouseEvents%22%3A%20true%2C%20%22color%22%3A%20%22black%22%2C%20%22dashArray%22%3A%20null%2C%20%22dashOffset%22%3A%20null%2C%20%22fill%22%3A%20false%2C%20%22fillColor%22%3A%20%22black%22%2C%20%22fillOpacity%22%3A%200.2%2C%20%22fillRule%22%3A%20%22evenodd%22%2C%20%22lineCap%22%3A%20%22round%22%2C%20%22lineJoin%22%3A%20%22round%22%2C%20%22noClip%22%3A%20false%2C%20%22opacity%22%3A%201.0%2C%20%22smoothFactor%22%3A%201.0%2C%20%22stroke%22%3A%20true%2C%20%22weight%22%3A%203%7D%0A%20%20%20%20%20%20%20%20%20%20%20%20%29.addTo%28map_f7e2f4bff8c94774bc318bd9f4730f99%29%3B%0A%20%20%20%20%20%20%20%20%0A%20%20%20%20%0A%20%20%20%20%20%20%20%20%20%20%20%20var%20poly_line_f7b4e1b9dc034afa80d93080f9348a8f%20%3D%20L.polyline%28%0A%20%20%20%20%20%20%20%20%20%20%20%20%20%20%20%20%5B%5B54.79088091783155%2C%209.430669206532897%5D%2C%20%5B54.790775%2C%209.428922%5D%5D%2C%0A%20%20%20%20%20%20%20%20%20%20%20%20%20%20%20%20%7B%22bubblingMouseEvents%22%3A%20true%2C%20%22color%22%3A%20%22black%22%2C%20%22dashArray%22%3A%20null%2C%20%22dashOffset%22%3A%20null%2C%20%22fill%22%3A%20false%2C%20%22fillColor%22%3A%20%22black%22%2C%20%22fillOpacity%22%3A%200.2%2C%20%22fillRule%22%3A%20%22evenodd%22%2C%20%22lineCap%22%3A%20%22round%22%2C%20%22lineJoin%22%3A%20%22round%22%2C%20%22noClip%22%3A%20false%2C%20%22opacity%22%3A%201.0%2C%20%22smoothFactor%22%3A%201.0%2C%20%22stroke%22%3A%20true%2C%20%22weight%22%3A%203%7D%0A%20%20%20%20%20%20%20%20%20%20%20%20%29.addTo%28map_f7e2f4bff8c94774bc318bd9f4730f99%29%3B%0A%20%20%20%20%20%20%20%20%0A%20%20%20%20%0A%20%20%20%20%20%20%20%20%20%20%20%20var%20circle_marker_c55d985567c247d68d1f8274d8cd27da%20%3D%20L.circleMarker%28%0A%20%20%20%20%20%20%20%20%20%20%20%20%20%20%20%20%5B54.809335398018234%2C%209.419122892448454%5D%2C%0A%20%20%20%20%20%20%20%20%20%20%20%20%20%20%20%20%7B%22bubblingMouseEvents%22%3A%20true%2C%20%22color%22%3A%20%22green%22%2C%20%22dashArray%22%3A%20null%2C%20%22dashOffset%22%3A%20null%2C%20%22fill%22%3A%20true%2C%20%22fillColor%22%3A%20%22green%22%2C%20%22fillOpacity%22%3A%201%2C%20%22fillRule%22%3A%20%22evenodd%22%2C%20%22lineCap%22%3A%20%22round%22%2C%20%22lineJoin%22%3A%20%22round%22%2C%20%22opacity%22%3A%201.0%2C%20%22radius%22%3A%205%2C%20%22stroke%22%3A%20true%2C%20%22weight%22%3A%203%7D%0A%20%20%20%20%20%20%20%20%20%20%20%20%29.addTo%28map_f7e2f4bff8c94774bc318bd9f4730f99%29%3B%0A%20%20%20%20%20%20%20%20%0A%20%20%20%20%0A%20%20%20%20%20%20%20%20var%20popup_07c6a8c046f5447fb59afc021b3b78b5%20%3D%20L.popup%28%7B%22maxWidth%22%3A%20%22100%25%22%7D%29%3B%0A%0A%20%20%20%20%20%20%20%20%0A%20%20%20%20%20%20%20%20%20%20%20%20var%20html_ead915678b12491eb718a9d16d26172d%20%3D%20%24%28%60%3Cdiv%20id%3D%22html_ead915678b12491eb718a9d16d26172d%22%20style%3D%22width%3A%20100.0%25%3B%20height%3A%20100.0%25%3B%22%3Ezone_3%3C/div%3E%60%29%5B0%5D%3B%0A%20%20%20%20%20%20%20%20%20%20%20%20popup_07c6a8c046f5447fb59afc021b3b78b5.setContent%28html_ead915678b12491eb718a9d16d26172d%29%3B%0A%20%20%20%20%20%20%20%20%0A%0A%20%20%20%20%20%20%20%20circle_marker_c55d985567c247d68d1f8274d8cd27da.bindPopup%28popup_07c6a8c046f5447fb59afc021b3b78b5%29%0A%20%20%20%20%20%20%20%20%3B%0A%0A%20%20%20%20%20%20%20%20%0A%20%20%20%20%0A%20%20%20%20%0A%20%20%20%20%20%20%20%20%20%20%20%20var%20circle_marker_79d366c85e7b44dfb7311b9abde6fd72%20%3D%20L.circleMarker%28%0A%20%20%20%20%20%20%20%20%20%20%20%20%20%20%20%20%5B54.79088091783155%2C%209.430669206532897%5D%2C%0A%20%20%20%20%20%20%20%20%20%20%20%20%20%20%20%20%7B%22bubblingMouseEvents%22%3A%20true%2C%20%22color%22%3A%20%22red%22%2C%20%22dashArray%22%3A%20null%2C%20%22dashOffset%22%3A%20null%2C%20%22fill%22%3A%20true%2C%20%22fillColor%22%3A%20%22red%22%2C%20%22fillOpacity%22%3A%201%2C%20%22fillRule%22%3A%20%22evenodd%22%2C%20%22lineCap%22%3A%20%22round%22%2C%20%22lineJoin%22%3A%20%22round%22%2C%20%22opacity%22%3A%201.0%2C%20%22radius%22%3A%205%2C%20%22stroke%22%3A%20true%2C%20%22weight%22%3A%203%7D%0A%20%20%20%20%20%20%20%20%20%20%20%20%29.addTo%28map_f7e2f4bff8c94774bc318bd9f4730f99%29%3B%0A%20%20%20%20%20%20%20%20%0A%20%20%20%20%0A%20%20%20%20%20%20%20%20var%20popup_e81137c2a4554cefa6021e92257f0c86%20%3D%20L.popup%28%7B%22maxWidth%22%3A%20%22100%25%22%7D%29%3B%0A%0A%20%20%20%20%20%20%20%20%0A%20%20%20%20%20%20%20%20%20%20%20%20var%20html_084fe9ce968948ecbf771e5279efcc24%20%3D%20%24%28%60%3Cdiv%20id%3D%22html_084fe9ce968948ecbf771e5279efcc24%22%20style%3D%22width%3A%20100.0%25%3B%20height%3A%20100.0%25%3B%22%3Ezone_5%3C/div%3E%60%29%5B0%5D%3B%0A%20%20%20%20%20%20%20%20%20%20%20%20popup_e81137c2a4554cefa6021e92257f0c86.setContent%28html_084fe9ce968948ecbf771e5279efcc24%29%3B%0A%20%20%20%20%20%20%20%20%0A%0A%20%20%20%20%20%20%20%20circle_marker_79d366c85e7b44dfb7311b9abde6fd72.bindPopup%28popup_e81137c2a4554cefa6021e92257f0c86%29%0A%20%20%20%20%20%20%20%20%3B%0A%0A%20%20%20%20%20%20%20%20%0A%20%20%20%20%0A%20%20%20%20%0A%20%20%20%20%20%20%20%20%20%20%20%20var%20poly_line_e164e876dc29443aa96e0b817b876776%20%3D%20L.polyline%28%0A%20%20%20%20%20%20%20%20%20%20%20%20%20%20%20%20%5B%5B54.8092426%2C%209.4188451%5D%2C%20%5B54.8071253%2C%209.4190371%5D%2C%20%5B54.8043231%2C%209.4198813%5D%2C%20%5B54.8022117%2C%209.4202291%5D%2C%20%5B54.8017972%2C%209.4214227%5D%2C%20%5B54.8007931%2C%209.4205253%5D%2C%20%5B54.7999768%2C%209.4228246%5D%2C%20%5B54.799893%2C%209.4228578%5D%2C%20%5B54.7988275%2C%209.4245355%5D%2C%20%5B54.7979971%2C%209.4258914%5D%2C%20%5B54.797117%2C%209.4274542%5D%2C%20%5B54.796567%2C%209.4284271%5D%2C%20%5B54.7956982%2C%209.4299695%5D%2C%20%5B54.7961235%2C%209.4307626%5D%2C%20%5B54.7956789%2C%209.4315531%5D%2C%20%5B54.794322%2C%209.4329662%5D%2C%20%5B54.7926683%2C%209.4335622%5D%2C%20%5B54.7917626%2C%209.4335232%5D%2C%20%5B54.7907022%2C%209.4336541%5D%2C%20%5B54.790651%2C%209.432451%5D%2C%20%5B54.7906104%2C%209.4315025%5D%5D%2C%0A%20%20%20%20%20%20%20%20%20%20%20%20%20%20%20%20%7B%22bubblingMouseEvents%22%3A%20true%2C%20%22color%22%3A%20%22%233388ff%22%2C%20%22dashArray%22%3A%20null%2C%20%22dashOffset%22%3A%20null%2C%20%22fill%22%3A%20false%2C%20%22fillColor%22%3A%20%22%233388ff%22%2C%20%22fillOpacity%22%3A%200.2%2C%20%22fillRule%22%3A%20%22evenodd%22%2C%20%22lineCap%22%3A%20%22round%22%2C%20%22lineJoin%22%3A%20%22round%22%2C%20%22noClip%22%3A%20false%2C%20%22opacity%22%3A%201.0%2C%20%22smoothFactor%22%3A%201.0%2C%20%22stroke%22%3A%20true%2C%20%22weight%22%3A%205%7D%0A%20%20%20%20%20%20%20%20%20%20%20%20%29.addTo%28map_f7e2f4bff8c94774bc318bd9f4730f99%29%3B%0A%20%20%20%20%20%20%20%20%0A%20%20%20%20%0A%20%20%20%20%20%20%20%20var%20popup_8a08aec4027842f2893ce379c7485713%20%3D%20L.popup%28%7B%22maxWidth%22%3A%20%22100%25%22%7D%29%3B%0A%0A%20%20%20%20%20%20%20%20%0A%20%20%20%20%20%20%20%20%20%20%20%20var%20html_9f77b535a31c45b094693bcac3c15925%20%3D%20%24%28%60%3Cdiv%20id%3D%22html_9f77b535a31c45b094693bcac3c15925%22%20style%3D%22width%3A%20100.0%25%3B%20height%3A%20100.0%25%3B%22%3Eall%3C/div%3E%60%29%5B0%5D%3B%0A%20%20%20%20%20%20%20%20%20%20%20%20popup_8a08aec4027842f2893ce379c7485713.setContent%28html_9f77b535a31c45b094693bcac3c15925%29%3B%0A%20%20%20%20%20%20%20%20%0A%0A%20%20%20%20%20%20%20%20poly_line_e164e876dc29443aa96e0b817b876776.bindPopup%28popup_8a08aec4027842f2893ce379c7485713%29%0A%20%20%20%20%20%20%20%20%3B%0A%0A%20%20%20%20%20%20%20%20%0A%20%20%20%20%0A%20%20%20%20%0A%20%20%20%20%20%20%20%20%20%20%20%20var%20circle_marker_cd81e2a6cce442e5b98110483272c5c0%20%3D%20L.circleMarker%28%0A%20%20%20%20%20%20%20%20%20%20%20%20%20%20%20%20%5B54.809335398018234%2C%209.419122892448454%5D%2C%0A%20%20%20%20%20%20%20%20%20%20%20%20%20%20%20%20%7B%22bubblingMouseEvents%22%3A%20true%2C%20%22color%22%3A%20%22green%22%2C%20%22dashArray%22%3A%20null%2C%20%22dashOffset%22%3A%20null%2C%20%22fill%22%3A%20true%2C%20%22fillColor%22%3A%20%22green%22%2C%20%22fillOpacity%22%3A%201%2C%20%22fillRule%22%3A%20%22evenodd%22%2C%20%22lineCap%22%3A%20%22round%22%2C%20%22lineJoin%22%3A%20%22round%22%2C%20%22opacity%22%3A%201.0%2C%20%22radius%22%3A%205%2C%20%22stroke%22%3A%20true%2C%20%22weight%22%3A%203%7D%0A%20%20%20%20%20%20%20%20%20%20%20%20%29.addTo%28map_f7e2f4bff8c94774bc318bd9f4730f99%29%3B%0A%20%20%20%20%20%20%20%20%0A%20%20%20%20%0A%20%20%20%20%20%20%20%20var%20popup_6789807545354d9d92eb7a1dc25e8f69%20%3D%20L.popup%28%7B%22maxWidth%22%3A%20%22100%25%22%7D%29%3B%0A%0A%20%20%20%20%20%20%20%20%0A%20%20%20%20%20%20%20%20%20%20%20%20var%20html_4a140487b1274eb98b38197049593ff7%20%3D%20%24%28%60%3Cdiv%20id%3D%22html_4a140487b1274eb98b38197049593ff7%22%20style%3D%22width%3A%20100.0%25%3B%20height%3A%20100.0%25%3B%22%3Ezone_3%3C/div%3E%60%29%5B0%5D%3B%0A%20%20%20%20%20%20%20%20%20%20%20%20popup_6789807545354d9d92eb7a1dc25e8f69.setContent%28html_4a140487b1274eb98b38197049593ff7%29%3B%0A%20%20%20%20%20%20%20%20%0A%0A%20%20%20%20%20%20%20%20circle_marker_cd81e2a6cce442e5b98110483272c5c0.bindPopup%28popup_6789807545354d9d92eb7a1dc25e8f69%29%0A%20%20%20%20%20%20%20%20%3B%0A%0A%20%20%20%20%20%20%20%20%0A%20%20%20%20%0A%20%20%20%20%0A%20%20%20%20%20%20%20%20%20%20%20%20var%20circle_marker_ff71186663404e05894f5aa14e2ee0a4%20%3D%20L.circleMarker%28%0A%20%20%20%20%20%20%20%20%20%20%20%20%20%20%20%20%5B54.79088091783155%2C%209.430669206532897%5D%2C%0A%20%20%20%20%20%20%20%20%20%20%20%20%20%20%20%20%7B%22bubblingMouseEvents%22%3A%20true%2C%20%22color%22%3A%20%22red%22%2C%20%22dashArray%22%3A%20null%2C%20%22dashOffset%22%3A%20null%2C%20%22fill%22%3A%20true%2C%20%22fillColor%22%3A%20%22red%22%2C%20%22fillOpacity%22%3A%201%2C%20%22fillRule%22%3A%20%22evenodd%22%2C%20%22lineCap%22%3A%20%22round%22%2C%20%22lineJoin%22%3A%20%22round%22%2C%20%22opacity%22%3A%201.0%2C%20%22radius%22%3A%205%2C%20%22stroke%22%3A%20true%2C%20%22weight%22%3A%203%7D%0A%20%20%20%20%20%20%20%20%20%20%20%20%29.addTo%28map_f7e2f4bff8c94774bc318bd9f4730f99%29%3B%0A%20%20%20%20%20%20%20%20%0A%20%20%20%20%0A%20%20%20%20%20%20%20%20var%20popup_d08ed54a2be347e29ef670a5003628cc%20%3D%20L.popup%28%7B%22maxWidth%22%3A%20%22100%25%22%7D%29%3B%0A%0A%20%20%20%20%20%20%20%20%0A%20%20%20%20%20%20%20%20%20%20%20%20var%20html_5aeaa741f6434caebc1b12bed2289b8f%20%3D%20%24%28%60%3Cdiv%20id%3D%22html_5aeaa741f6434caebc1b12bed2289b8f%22%20style%3D%22width%3A%20100.0%25%3B%20height%3A%20100.0%25%3B%22%3Ezone_5%3C/div%3E%60%29%5B0%5D%3B%0A%20%20%20%20%20%20%20%20%20%20%20%20popup_d08ed54a2be347e29ef670a5003628cc.setContent%28html_5aeaa741f6434caebc1b12bed2289b8f%29%3B%0A%20%20%20%20%20%20%20%20%0A%0A%20%20%20%20%20%20%20%20circle_marker_ff71186663404e05894f5aa14e2ee0a4.bindPopup%28popup_d08ed54a2be347e29ef670a5003628cc%29%0A%20%20%20%20%20%20%20%20%3B%0A%0A%20%20%20%20%20%20%20%20%0A%20%20%20%20%0A%3C/script%3E onload=\"this.contentDocument.open();this.contentDocument.write(    decodeURIComponent(this.getAttribute('data-html')));this.contentDocument.close();\" allowfullscreen webkitallowfullscreen mozallowfullscreen></iframe></div></div>"
      ],
      "text/plain": [
       "<folium.folium.Map at 0x7fc5890211c0>"
      ]
     },
     "execution_count": 394,
     "metadata": {},
     "output_type": "execute_result"
    }
   ],
   "source": [
    "# Plot all paths between zones including car\n",
    "path(sm, 'zone_3', 'zone_5', public=True, private=True,)\n",
    "#???"
   ]
  },
  {
   "cell_type": "code",
   "execution_count": 395,
   "metadata": {},
   "outputs": [
    {
     "data": {
      "text/plain": [
       "dict_keys(['parameters', 'debug', 'walk_on_road', 'coordinates_unit', 'epsg', 'segments', 'checkpoint_links', 'loaded_links', 'links', 'road_links', 'footpaths', 'lines', 'networkcaster_neighbors', 'networkcaster_road_access', 'node_parenthood', 'road_to_transit', 'zone_to_transit', 'zone_to_road', 'checkpoint_nodes', 'loaded_nodes', 'nodes', 'road_nodes', 'centroids', 'disaggregated_nodes', 'micro_zones', 'zones', 'node_clusters', 'fare_rules', 'fare_attributes', 'mode_nests', 'logit_scales', 'utility_values', 'car_los', 'cycling_los', 'cycle_los', 'walk_los', 'jsons', 'bike_los', 'volumes', 'pt_los', 'footpath_links', 'dead_ends', 'circular_lines', 'broken_sequences', 'bikelane_links', 'footpath_nodes', 'bikelane_nodes'])"
      ]
     },
     "execution_count": 395,
     "metadata": {},
     "output_type": "execute_result"
    }
   ],
   "source": [
    "sm.__dict__.keys()"
   ]
  },
  {
   "cell_type": "markdown",
   "metadata": {},
   "source": [
    "## Prices\n",
    "\n",
    "Add price LoS attribute to LoS tables"
   ]
  },
  {
   "cell_type": "code",
   "execution_count": 396,
   "metadata": {},
   "outputs": [],
   "source": [
    "# Car usage has operating cost of 13ct/km in average\n",
    "# Note: we don't apply sunk cost like maintenance or purchase cost\n",
    "sm.car_los['price'] = sm.car_los['length'] * 0.13 / 1000"
   ]
  },
  {
   "cell_type": "code",
   "execution_count": 397,
   "metadata": {},
   "outputs": [],
   "source": [
    "# For PT, we have a look at the PT operators price structure.\n",
    "# For this toy model we simplify it to day tickets:\n",
    "# https://www.aktiv-bus.de/fahrkarten/flensburg/\n",
    "# Assume that a passenger makes two trips per day with a day ticket\n",
    "sm.pt_los['price'] = 6/3.2 \n",
    "# We don't re-build the exact price structure, but make longer trips more expensive\n",
    "#sm.pt_los.loc[sm.pt_los['length']>10000, 'price'] = 10 / 2"
   ]
  },
  {
   "cell_type": "code",
   "execution_count": 398,
   "metadata": {},
   "outputs": [],
   "source": [
    "#Fürs Gehen muss man nichts bezahlen\n",
    "sm.walk_los['price']= 0  "
   ]
  },
  {
   "cell_type": "code",
   "execution_count": 399,
   "metadata": {},
   "outputs": [],
   "source": [
    "#Fürs Radfahren muss man nichts bezahlen\n",
    "sm.bike_los['price']= 0 "
   ]
  },
  {
   "cell_type": "code",
   "execution_count": 400,
   "metadata": {},
   "outputs": [],
   "source": [
    "sm.pt_los.reset_index(inplace=True)"
   ]
  },
  {
   "cell_type": "markdown",
   "metadata": {},
   "source": [
    "## Save model"
   ]
  },
  {
   "cell_type": "code",
   "execution_count": 401,
   "metadata": {
    "scrolled": true
   },
   "outputs": [
    {
     "name": "stderr",
     "output_type": "stream",
     "text": [
      "to_hdf(overwriting):  62%|█████████████▌        | 29/47 [00:02<00:01, 12.73it/s]"
     ]
    },
    {
     "name": "stdout",
     "output_type": "stream",
     "text": [
      "could not save geometry from table fare_rules\n",
      "could not save geometry from table fare_attributes\n",
      "could not save geometry from table mode_nests\n",
      "could not save geometry from table logit_scales\n",
      "could not save geometry from table utility_values\n"
     ]
    },
    {
     "name": "stderr",
     "output_type": "stream",
     "text": [
      "to_hdf(overwriting): 100%|██████████████████████| 47/47 [00:13<00:00,  3.54it/s]\n"
     ]
    }
   ],
   "source": [
    "sm.to_json(model_path + 'los_tables')"
   ]
  },
  {
   "cell_type": "code",
   "execution_count": null,
   "metadata": {},
   "outputs": [],
   "source": []
  },
  {
   "cell_type": "code",
   "execution_count": null,
   "metadata": {},
   "outputs": [],
   "source": []
  }
 ],
 "metadata": {
  "kernelspec": {
   "display_name": "Python 3 (ipykernel)",
   "language": "python",
   "name": "python3"
  },
  "language_info": {
   "codemirror_mode": {
    "name": "ipython",
    "version": 3
   },
   "file_extension": ".py",
   "mimetype": "text/x-python",
   "name": "python",
   "nbconvert_exporter": "python",
   "pygments_lexer": "ipython3",
   "version": "3.8.12"
  }
 },
 "nbformat": 4,
 "nbformat_minor": 4
}
